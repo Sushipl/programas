{
 "cells": [
  {
   "cell_type": "code",
   "execution_count": 3,
   "metadata": {},
   "outputs": [],
   "source": [
    "import pandas as pd\n",
    "\n",
    "vendas = pd.read_excel('base_vendas.xlsx')\n",
    "paga=pd.read_excel('base_pagamentos.xlsx')"
   ]
  },
  {
   "cell_type": "code",
   "execution_count": 4,
   "metadata": {},
   "outputs": [
    {
     "data": {
      "text/html": [
       "<div>\n",
       "<style scoped>\n",
       "    .dataframe tbody tr th:only-of-type {\n",
       "        vertical-align: middle;\n",
       "    }\n",
       "\n",
       "    .dataframe tbody tr th {\n",
       "        vertical-align: top;\n",
       "    }\n",
       "\n",
       "    .dataframe thead th {\n",
       "        text-align: right;\n",
       "    }\n",
       "</style>\n",
       "<table border=\"1\" class=\"dataframe\">\n",
       "  <thead>\n",
       "    <tr style=\"text-align: right;\">\n",
       "      <th></th>\n",
       "      <th>order_id</th>\n",
       "      <th>customer_id</th>\n",
       "      <th>order_status</th>\n",
       "      <th>order_purchase_timestamp</th>\n",
       "      <th>order_approved_at</th>\n",
       "      <th>order_delivered_carrier_date</th>\n",
       "      <th>order_delivered_customer_date</th>\n",
       "      <th>order_estimated_delivery_date</th>\n",
       "      <th>order_item_id</th>\n",
       "      <th>product_id</th>\n",
       "      <th>...</th>\n",
       "      <th>price</th>\n",
       "      <th>freight_value</th>\n",
       "      <th>product_category_name</th>\n",
       "      <th>customer_unique_id</th>\n",
       "      <th>customer_city</th>\n",
       "      <th>customer_state</th>\n",
       "      <th>dia_compra</th>\n",
       "      <th>mes_compra</th>\n",
       "      <th>ano_compra</th>\n",
       "      <th>ano_mes</th>\n",
       "    </tr>\n",
       "  </thead>\n",
       "  <tbody>\n",
       "    <tr>\n",
       "      <th>0</th>\n",
       "      <td>e481f51cbdc54678b7cc49136f2d6af7</td>\n",
       "      <td>9ef432eb6251297304e76186b10a928d</td>\n",
       "      <td>delivered</td>\n",
       "      <td>2017-10-02</td>\n",
       "      <td>2017-10-02</td>\n",
       "      <td>2017-10-04</td>\n",
       "      <td>2017-10-10</td>\n",
       "      <td>2017-10-18</td>\n",
       "      <td>1.0</td>\n",
       "      <td>87285b34884572647811a353c7ac498a</td>\n",
       "      <td>...</td>\n",
       "      <td>29.99</td>\n",
       "      <td>8.72</td>\n",
       "      <td>utilidades_domesticas</td>\n",
       "      <td>7c396fd4830fd04220f754e42b4e5bff</td>\n",
       "      <td>sao paulo</td>\n",
       "      <td>SP</td>\n",
       "      <td>2</td>\n",
       "      <td>10</td>\n",
       "      <td>2017</td>\n",
       "      <td>2017-10</td>\n",
       "    </tr>\n",
       "    <tr>\n",
       "      <th>1</th>\n",
       "      <td>53cdb2fc8bc7dce0b6741e2150273451</td>\n",
       "      <td>b0830fb4747a6c6d20dea0b8c802d7ef</td>\n",
       "      <td>delivered</td>\n",
       "      <td>2018-07-24</td>\n",
       "      <td>2018-07-26</td>\n",
       "      <td>2018-07-26</td>\n",
       "      <td>2018-08-07</td>\n",
       "      <td>2018-08-13</td>\n",
       "      <td>1.0</td>\n",
       "      <td>595fac2a385ac33a80bd5114aec74eb8</td>\n",
       "      <td>...</td>\n",
       "      <td>118.70</td>\n",
       "      <td>22.76</td>\n",
       "      <td>perfumaria</td>\n",
       "      <td>af07308b275d755c9edb36a90c618231</td>\n",
       "      <td>barreiras</td>\n",
       "      <td>BA</td>\n",
       "      <td>24</td>\n",
       "      <td>7</td>\n",
       "      <td>2018</td>\n",
       "      <td>2018-07</td>\n",
       "    </tr>\n",
       "    <tr>\n",
       "      <th>2</th>\n",
       "      <td>47770eb9100c2d0c44946d9cf07ec65d</td>\n",
       "      <td>41ce2a54c0b03bf3443c3d931a367089</td>\n",
       "      <td>delivered</td>\n",
       "      <td>2018-08-08</td>\n",
       "      <td>2018-08-08</td>\n",
       "      <td>2018-08-08</td>\n",
       "      <td>2018-08-17</td>\n",
       "      <td>2018-09-04</td>\n",
       "      <td>1.0</td>\n",
       "      <td>aa4383b373c6aca5d8797843e5594415</td>\n",
       "      <td>...</td>\n",
       "      <td>159.90</td>\n",
       "      <td>19.22</td>\n",
       "      <td>automotivo</td>\n",
       "      <td>3a653a41f6f9fc3d2a113cf8398680e8</td>\n",
       "      <td>vianopolis</td>\n",
       "      <td>GO</td>\n",
       "      <td>8</td>\n",
       "      <td>8</td>\n",
       "      <td>2018</td>\n",
       "      <td>2018-08</td>\n",
       "    </tr>\n",
       "  </tbody>\n",
       "</table>\n",
       "<p>3 rows × 22 columns</p>\n",
       "</div>"
      ],
      "text/plain": [
       "                           order_id                       customer_id  \\\n",
       "0  e481f51cbdc54678b7cc49136f2d6af7  9ef432eb6251297304e76186b10a928d   \n",
       "1  53cdb2fc8bc7dce0b6741e2150273451  b0830fb4747a6c6d20dea0b8c802d7ef   \n",
       "2  47770eb9100c2d0c44946d9cf07ec65d  41ce2a54c0b03bf3443c3d931a367089   \n",
       "\n",
       "  order_status order_purchase_timestamp order_approved_at  \\\n",
       "0    delivered               2017-10-02        2017-10-02   \n",
       "1    delivered               2018-07-24        2018-07-26   \n",
       "2    delivered               2018-08-08        2018-08-08   \n",
       "\n",
       "  order_delivered_carrier_date order_delivered_customer_date  \\\n",
       "0                   2017-10-04                    2017-10-10   \n",
       "1                   2018-07-26                    2018-08-07   \n",
       "2                   2018-08-08                    2018-08-17   \n",
       "\n",
       "  order_estimated_delivery_date  order_item_id  \\\n",
       "0                    2017-10-18            1.0   \n",
       "1                    2018-08-13            1.0   \n",
       "2                    2018-09-04            1.0   \n",
       "\n",
       "                         product_id  ...   price freight_value  \\\n",
       "0  87285b34884572647811a353c7ac498a  ...   29.99          8.72   \n",
       "1  595fac2a385ac33a80bd5114aec74eb8  ...  118.70         22.76   \n",
       "2  aa4383b373c6aca5d8797843e5594415  ...  159.90         19.22   \n",
       "\n",
       "   product_category_name                customer_unique_id customer_city  \\\n",
       "0  utilidades_domesticas  7c396fd4830fd04220f754e42b4e5bff     sao paulo   \n",
       "1             perfumaria  af07308b275d755c9edb36a90c618231     barreiras   \n",
       "2             automotivo  3a653a41f6f9fc3d2a113cf8398680e8    vianopolis   \n",
       "\n",
       "  customer_state dia_compra mes_compra  ano_compra  ano_mes  \n",
       "0             SP          2         10        2017  2017-10  \n",
       "1             BA         24          7        2018  2018-07  \n",
       "2             GO          8          8        2018  2018-08  \n",
       "\n",
       "[3 rows x 22 columns]"
      ]
     },
     "execution_count": 4,
     "metadata": {},
     "output_type": "execute_result"
    }
   ],
   "source": [
    "vendas.head(3)"
   ]
  },
  {
   "cell_type": "code",
   "execution_count": 5,
   "metadata": {},
   "outputs": [
    {
     "name": "stdout",
     "output_type": "stream",
     "text": [
      "<class 'pandas.core.frame.DataFrame'>\n",
      "RangeIndex: 111923 entries, 0 to 111922\n",
      "Data columns (total 22 columns):\n",
      " #   Column                         Non-Null Count   Dtype         \n",
      "---  ------                         --------------   -----         \n",
      " 0   order_id                       111923 non-null  object        \n",
      " 1   customer_id                    111923 non-null  object        \n",
      " 2   order_status                   111923 non-null  object        \n",
      " 3   order_purchase_timestamp       111923 non-null  datetime64[ns]\n",
      " 4   order_approved_at              111808 non-null  datetime64[ns]\n",
      " 5   order_delivered_carrier_date   110050 non-null  datetime64[ns]\n",
      " 6   order_delivered_customer_date  108804 non-null  datetime64[ns]\n",
      " 7   order_estimated_delivery_date  111923 non-null  datetime64[ns]\n",
      " 8   order_item_id                  111206 non-null  float64       \n",
      " 9   product_id                     111206 non-null  object        \n",
      " 10  seller_id                      111206 non-null  object        \n",
      " 11  shipping_limit_date            111206 non-null  datetime64[ns]\n",
      " 12  price                          111206 non-null  float64       \n",
      " 13  freight_value                  111206 non-null  float64       \n",
      " 14  product_category_name          109608 non-null  object        \n",
      " 15  customer_unique_id             111923 non-null  object        \n",
      " 16  customer_city                  111923 non-null  object        \n",
      " 17  customer_state                 111923 non-null  object        \n",
      " 18  dia_compra                     111923 non-null  int64         \n",
      " 19  mes_compra                     111923 non-null  int64         \n",
      " 20  ano_compra                     111923 non-null  int64         \n",
      " 21  ano_mes                        111923 non-null  object        \n",
      "dtypes: datetime64[ns](6), float64(3), int64(3), object(10)\n",
      "memory usage: 18.8+ MB\n"
     ]
    }
   ],
   "source": [
    "vendas.info()"
   ]
  },
  {
   "cell_type": "code",
   "execution_count": 6,
   "metadata": {},
   "outputs": [
    {
     "data": {
      "text/html": [
       "<div>\n",
       "<style scoped>\n",
       "    .dataframe tbody tr th:only-of-type {\n",
       "        vertical-align: middle;\n",
       "    }\n",
       "\n",
       "    .dataframe tbody tr th {\n",
       "        vertical-align: top;\n",
       "    }\n",
       "\n",
       "    .dataframe thead th {\n",
       "        text-align: right;\n",
       "    }\n",
       "</style>\n",
       "<table border=\"1\" class=\"dataframe\">\n",
       "  <thead>\n",
       "    <tr style=\"text-align: right;\">\n",
       "      <th></th>\n",
       "      <th>order_item_id</th>\n",
       "      <th>price</th>\n",
       "      <th>freight_value</th>\n",
       "      <th>dia_compra</th>\n",
       "      <th>mes_compra</th>\n",
       "      <th>ano_compra</th>\n",
       "    </tr>\n",
       "  </thead>\n",
       "  <tbody>\n",
       "    <tr>\n",
       "      <th>count</th>\n",
       "      <td>111206.000000</td>\n",
       "      <td>111206.000000</td>\n",
       "      <td>111206.000000</td>\n",
       "      <td>111923.000000</td>\n",
       "      <td>111923.000000</td>\n",
       "      <td>111923.000000</td>\n",
       "    </tr>\n",
       "    <tr>\n",
       "      <th>mean</th>\n",
       "      <td>1.198020</td>\n",
       "      <td>120.845955</td>\n",
       "      <td>20.032079</td>\n",
       "      <td>15.512853</td>\n",
       "      <td>6.000670</td>\n",
       "      <td>2017.541167</td>\n",
       "    </tr>\n",
       "    <tr>\n",
       "      <th>std</th>\n",
       "      <td>0.706445</td>\n",
       "      <td>183.941756</td>\n",
       "      <td>15.847991</td>\n",
       "      <td>8.667442</td>\n",
       "      <td>3.241051</td>\n",
       "      <td>0.498305</td>\n",
       "    </tr>\n",
       "    <tr>\n",
       "      <th>min</th>\n",
       "      <td>1.000000</td>\n",
       "      <td>0.850000</td>\n",
       "      <td>0.000000</td>\n",
       "      <td>1.000000</td>\n",
       "      <td>1.000000</td>\n",
       "      <td>2017.000000</td>\n",
       "    </tr>\n",
       "    <tr>\n",
       "      <th>25%</th>\n",
       "      <td>1.000000</td>\n",
       "      <td>39.900000</td>\n",
       "      <td>13.080000</td>\n",
       "      <td>8.000000</td>\n",
       "      <td>3.000000</td>\n",
       "      <td>2017.000000</td>\n",
       "    </tr>\n",
       "    <tr>\n",
       "      <th>50%</th>\n",
       "      <td>1.000000</td>\n",
       "      <td>74.990000</td>\n",
       "      <td>16.280000</td>\n",
       "      <td>15.000000</td>\n",
       "      <td>6.000000</td>\n",
       "      <td>2018.000000</td>\n",
       "    </tr>\n",
       "    <tr>\n",
       "      <th>75%</th>\n",
       "      <td>1.000000</td>\n",
       "      <td>134.990000</td>\n",
       "      <td>21.180000</td>\n",
       "      <td>23.000000</td>\n",
       "      <td>8.000000</td>\n",
       "      <td>2018.000000</td>\n",
       "    </tr>\n",
       "    <tr>\n",
       "      <th>max</th>\n",
       "      <td>21.000000</td>\n",
       "      <td>6735.000000</td>\n",
       "      <td>409.680000</td>\n",
       "      <td>31.000000</td>\n",
       "      <td>12.000000</td>\n",
       "      <td>2018.000000</td>\n",
       "    </tr>\n",
       "  </tbody>\n",
       "</table>\n",
       "</div>"
      ],
      "text/plain": [
       "       order_item_id          price  freight_value     dia_compra  \\\n",
       "count  111206.000000  111206.000000  111206.000000  111923.000000   \n",
       "mean        1.198020     120.845955      20.032079      15.512853   \n",
       "std         0.706445     183.941756      15.847991       8.667442   \n",
       "min         1.000000       0.850000       0.000000       1.000000   \n",
       "25%         1.000000      39.900000      13.080000       8.000000   \n",
       "50%         1.000000      74.990000      16.280000      15.000000   \n",
       "75%         1.000000     134.990000      21.180000      23.000000   \n",
       "max        21.000000    6735.000000     409.680000      31.000000   \n",
       "\n",
       "          mes_compra     ano_compra  \n",
       "count  111923.000000  111923.000000  \n",
       "mean        6.000670    2017.541167  \n",
       "std         3.241051       0.498305  \n",
       "min         1.000000    2017.000000  \n",
       "25%         3.000000    2017.000000  \n",
       "50%         6.000000    2018.000000  \n",
       "75%         8.000000    2018.000000  \n",
       "max        12.000000    2018.000000  "
      ]
     },
     "execution_count": 6,
     "metadata": {},
     "output_type": "execute_result"
    }
   ],
   "source": [
    "vendas.describe()"
   ]
  },
  {
   "cell_type": "code",
   "execution_count": 7,
   "metadata": {},
   "outputs": [
    {
     "data": {
      "text/html": [
       "<div>\n",
       "<style scoped>\n",
       "    .dataframe tbody tr th:only-of-type {\n",
       "        vertical-align: middle;\n",
       "    }\n",
       "\n",
       "    .dataframe tbody tr th {\n",
       "        vertical-align: top;\n",
       "    }\n",
       "\n",
       "    .dataframe thead th {\n",
       "        text-align: right;\n",
       "    }\n",
       "</style>\n",
       "<table border=\"1\" class=\"dataframe\">\n",
       "  <thead>\n",
       "    <tr style=\"text-align: right;\">\n",
       "      <th></th>\n",
       "      <th>order_id</th>\n",
       "      <th>customer_id</th>\n",
       "      <th>order_status</th>\n",
       "      <th>order_purchase_timestamp</th>\n",
       "      <th>order_approved_at</th>\n",
       "      <th>order_delivered_carrier_date</th>\n",
       "      <th>order_delivered_customer_date</th>\n",
       "      <th>order_estimated_delivery_date</th>\n",
       "      <th>payment_sequential</th>\n",
       "      <th>payment_type</th>\n",
       "      <th>payment_installments</th>\n",
       "      <th>payment_value</th>\n",
       "    </tr>\n",
       "  </thead>\n",
       "  <tbody>\n",
       "    <tr>\n",
       "      <th>0</th>\n",
       "      <td>e481f51cbdc54678b7cc49136f2d6af7</td>\n",
       "      <td>9ef432eb6251297304e76186b10a928d</td>\n",
       "      <td>delivered</td>\n",
       "      <td>2017-10-02</td>\n",
       "      <td>2017-10-02</td>\n",
       "      <td>2017-10-04</td>\n",
       "      <td>2017-10-10</td>\n",
       "      <td>2017-10-18</td>\n",
       "      <td>1</td>\n",
       "      <td>credit_card</td>\n",
       "      <td>1</td>\n",
       "      <td>18.12</td>\n",
       "    </tr>\n",
       "    <tr>\n",
       "      <th>1</th>\n",
       "      <td>e481f51cbdc54678b7cc49136f2d6af7</td>\n",
       "      <td>9ef432eb6251297304e76186b10a928d</td>\n",
       "      <td>delivered</td>\n",
       "      <td>2017-10-02</td>\n",
       "      <td>2017-10-02</td>\n",
       "      <td>2017-10-04</td>\n",
       "      <td>2017-10-10</td>\n",
       "      <td>2017-10-18</td>\n",
       "      <td>2</td>\n",
       "      <td>voucher</td>\n",
       "      <td>1</td>\n",
       "      <td>18.59</td>\n",
       "    </tr>\n",
       "    <tr>\n",
       "      <th>2</th>\n",
       "      <td>e481f51cbdc54678b7cc49136f2d6af7</td>\n",
       "      <td>9ef432eb6251297304e76186b10a928d</td>\n",
       "      <td>delivered</td>\n",
       "      <td>2017-10-02</td>\n",
       "      <td>2017-10-02</td>\n",
       "      <td>2017-10-04</td>\n",
       "      <td>2017-10-10</td>\n",
       "      <td>2017-10-18</td>\n",
       "      <td>3</td>\n",
       "      <td>voucher</td>\n",
       "      <td>1</td>\n",
       "      <td>2.00</td>\n",
       "    </tr>\n",
       "  </tbody>\n",
       "</table>\n",
       "</div>"
      ],
      "text/plain": [
       "                           order_id                       customer_id  \\\n",
       "0  e481f51cbdc54678b7cc49136f2d6af7  9ef432eb6251297304e76186b10a928d   \n",
       "1  e481f51cbdc54678b7cc49136f2d6af7  9ef432eb6251297304e76186b10a928d   \n",
       "2  e481f51cbdc54678b7cc49136f2d6af7  9ef432eb6251297304e76186b10a928d   \n",
       "\n",
       "  order_status order_purchase_timestamp order_approved_at  \\\n",
       "0    delivered               2017-10-02        2017-10-02   \n",
       "1    delivered               2017-10-02        2017-10-02   \n",
       "2    delivered               2017-10-02        2017-10-02   \n",
       "\n",
       "  order_delivered_carrier_date order_delivered_customer_date  \\\n",
       "0                   2017-10-04                    2017-10-10   \n",
       "1                   2017-10-04                    2017-10-10   \n",
       "2                   2017-10-04                    2017-10-10   \n",
       "\n",
       "  order_estimated_delivery_date  payment_sequential payment_type  \\\n",
       "0                    2017-10-18                   1  credit_card   \n",
       "1                    2017-10-18                   2      voucher   \n",
       "2                    2017-10-18                   3      voucher   \n",
       "\n",
       "   payment_installments  payment_value  \n",
       "0                     1          18.12  \n",
       "1                     1          18.59  \n",
       "2                     1           2.00  "
      ]
     },
     "execution_count": 7,
     "metadata": {},
     "output_type": "execute_result"
    }
   ],
   "source": [
    "paga.head(3)"
   ]
  },
  {
   "cell_type": "code",
   "execution_count": 8,
   "metadata": {},
   "outputs": [
    {
     "name": "stdout",
     "output_type": "stream",
     "text": [
      "<class 'pandas.core.frame.DataFrame'>\n",
      "RangeIndex: 102528 entries, 0 to 102527\n",
      "Data columns (total 12 columns):\n",
      " #   Column                         Non-Null Count   Dtype         \n",
      "---  ------                         --------------   -----         \n",
      " 0   order_id                       102528 non-null  object        \n",
      " 1   customer_id                    102528 non-null  object        \n",
      " 2   order_status                   102528 non-null  object        \n",
      " 3   order_purchase_timestamp       102528 non-null  datetime64[ns]\n",
      " 4   order_approved_at              102399 non-null  datetime64[ns]\n",
      " 5   order_delivered_carrier_date   100730 non-null  datetime64[ns]\n",
      " 6   order_delivered_customer_date  99500 non-null   datetime64[ns]\n",
      " 7   order_estimated_delivery_date  102528 non-null  datetime64[ns]\n",
      " 8   payment_sequential             102528 non-null  int64         \n",
      " 9   payment_type                   102528 non-null  object        \n",
      " 10  payment_installments           102528 non-null  int64         \n",
      " 11  payment_value                  102528 non-null  float64       \n",
      "dtypes: datetime64[ns](5), float64(1), int64(2), object(4)\n",
      "memory usage: 9.4+ MB\n"
     ]
    }
   ],
   "source": [
    "paga.info()"
   ]
  },
  {
   "cell_type": "code",
   "execution_count": 9,
   "metadata": {},
   "outputs": [
    {
     "data": {
      "text/html": [
       "<div>\n",
       "<style scoped>\n",
       "    .dataframe tbody tr th:only-of-type {\n",
       "        vertical-align: middle;\n",
       "    }\n",
       "\n",
       "    .dataframe tbody tr th {\n",
       "        vertical-align: top;\n",
       "    }\n",
       "\n",
       "    .dataframe thead th {\n",
       "        text-align: right;\n",
       "    }\n",
       "</style>\n",
       "<table border=\"1\" class=\"dataframe\">\n",
       "  <thead>\n",
       "    <tr style=\"text-align: right;\">\n",
       "      <th></th>\n",
       "      <th>payment_sequential</th>\n",
       "      <th>payment_installments</th>\n",
       "      <th>payment_value</th>\n",
       "    </tr>\n",
       "  </thead>\n",
       "  <tbody>\n",
       "    <tr>\n",
       "      <th>count</th>\n",
       "      <td>102528.00000</td>\n",
       "      <td>102528.000000</td>\n",
       "      <td>102528.000000</td>\n",
       "    </tr>\n",
       "    <tr>\n",
       "      <th>mean</th>\n",
       "      <td>1.09337</td>\n",
       "      <td>2.854332</td>\n",
       "      <td>154.309690</td>\n",
       "    </tr>\n",
       "    <tr>\n",
       "      <th>std</th>\n",
       "      <td>0.71027</td>\n",
       "      <td>2.686302</td>\n",
       "      <td>217.916223</td>\n",
       "    </tr>\n",
       "    <tr>\n",
       "      <th>min</th>\n",
       "      <td>1.00000</td>\n",
       "      <td>0.000000</td>\n",
       "      <td>0.000000</td>\n",
       "    </tr>\n",
       "    <tr>\n",
       "      <th>25%</th>\n",
       "      <td>1.00000</td>\n",
       "      <td>1.000000</td>\n",
       "      <td>56.860000</td>\n",
       "    </tr>\n",
       "    <tr>\n",
       "      <th>50%</th>\n",
       "      <td>1.00000</td>\n",
       "      <td>1.000000</td>\n",
       "      <td>100.000000</td>\n",
       "    </tr>\n",
       "    <tr>\n",
       "      <th>75%</th>\n",
       "      <td>1.00000</td>\n",
       "      <td>4.000000</td>\n",
       "      <td>172.080000</td>\n",
       "    </tr>\n",
       "    <tr>\n",
       "      <th>max</th>\n",
       "      <td>29.00000</td>\n",
       "      <td>24.000000</td>\n",
       "      <td>13664.080000</td>\n",
       "    </tr>\n",
       "  </tbody>\n",
       "</table>\n",
       "</div>"
      ],
      "text/plain": [
       "       payment_sequential  payment_installments  payment_value\n",
       "count        102528.00000         102528.000000  102528.000000\n",
       "mean              1.09337              2.854332     154.309690\n",
       "std               0.71027              2.686302     217.916223\n",
       "min               1.00000              0.000000       0.000000\n",
       "25%               1.00000              1.000000      56.860000\n",
       "50%               1.00000              1.000000     100.000000\n",
       "75%               1.00000              4.000000     172.080000\n",
       "max              29.00000             24.000000   13664.080000"
      ]
     },
     "execution_count": 9,
     "metadata": {},
     "output_type": "execute_result"
    }
   ],
   "source": [
    "paga.describe()"
   ]
  },
  {
   "cell_type": "code",
   "execution_count": 10,
   "metadata": {},
   "outputs": [
    {
     "data": {
      "text/plain": [
       "(102528, 12)"
      ]
     },
     "execution_count": 10,
     "metadata": {},
     "output_type": "execute_result"
    }
   ],
   "source": [
    "paga.shape"
   ]
  },
  {
   "cell_type": "code",
   "execution_count": 11,
   "metadata": {},
   "outputs": [
    {
     "data": {
      "text/plain": [
       "102528"
      ]
     },
     "execution_count": 11,
     "metadata": {},
     "output_type": "execute_result"
    }
   ],
   "source": [
    "paga.payment_type.count()"
   ]
  },
  {
   "cell_type": "code",
   "execution_count": 12,
   "metadata": {},
   "outputs": [
    {
     "data": {
      "text/plain": [
       "credit_card    75809\n",
       "boleto         19543\n",
       "voucher         5690\n",
       "debit_card      1486\n",
       "Name: payment_type, dtype: int64"
      ]
     },
     "execution_count": 12,
     "metadata": {},
     "output_type": "execute_result"
    }
   ],
   "source": [
    "paga.payment_type.value_counts()"
   ]
  },
  {
   "cell_type": "code",
   "execution_count": 13,
   "metadata": {},
   "outputs": [
    {
     "data": {
      "text/plain": [
       "credit_card    73.94\n",
       "boleto         19.06\n",
       "voucher         5.55\n",
       "debit_card      1.45\n",
       "Name: payment_type, dtype: float64"
      ]
     },
     "execution_count": 13,
     "metadata": {},
     "output_type": "execute_result"
    }
   ],
   "source": [
    "trans_total=paga.payment_type.count()\n",
    "trans_tipo=paga.payment_type.value_counts()\n",
    "round((trans_tipo/trans_total)*100, 2)"
   ]
  },
  {
   "cell_type": "code",
   "execution_count": 14,
   "metadata": {},
   "outputs": [
    {
     "data": {
      "text/plain": [
       "75809"
      ]
     },
     "execution_count": 14,
     "metadata": {},
     "output_type": "execute_result"
    }
   ],
   "source": [
    "trans_tipo.credit_card"
   ]
  },
  {
   "cell_type": "code",
   "execution_count": 15,
   "metadata": {},
   "outputs": [
    {
     "data": {
      "text/plain": [
       "<AxesSubplot:>"
      ]
     },
     "execution_count": 15,
     "metadata": {},
     "output_type": "execute_result"
    },
    {
     "data": {
      "image/png": "[encoded data removed]",
      "text/plain": [
       "<Figure size 640x480 with 1 Axes>"
      ]
     },
     "metadata": {},
     "output_type": "display_data"
    }
   ],
   "source": [
    "trans_tipo.plot.bar()"
   ]
  },
  {
   "cell_type": "code",
   "execution_count": 16,
   "metadata": {},
   "outputs": [
    {
     "data": {
      "image/png": "[encoded data removed]",
      "text/plain": [
       "<Figure size 640x480 with 1 Axes>"
      ]
     },
     "metadata": {},
     "output_type": "display_data"
    }
   ],
   "source": [
    "import matplotlib.pyplot as plt\n",
    "\n",
    "trans_tipo.plot.bar()\n",
    "plt.savefig('trans_tipo')"
   ]
  },
  {
   "cell_type": "code",
   "execution_count": 17,
   "metadata": {},
   "outputs": [
    {
     "data": {
      "image/png": "[encoded data removed]",
      "text/plain": [
       "<Figure size 640x480 with 1 Axes>"
      ]
     },
     "metadata": {},
     "output_type": "display_data"
    }
   ],
   "source": [
    "trans_tipo.plot.bar()\n",
    "plt.savefig('trans_tipo',bbox_inches='tight',transparent=True)"
   ]
  },
  {
   "cell_type": "code",
   "execution_count": 18,
   "metadata": {},
   "outputs": [
    {
     "data": {
      "text/html": [
       "<div>\n",
       "<style scoped>\n",
       "    .dataframe tbody tr th:only-of-type {\n",
       "        vertical-align: middle;\n",
       "    }\n",
       "\n",
       "    .dataframe tbody tr th {\n",
       "        vertical-align: top;\n",
       "    }\n",
       "\n",
       "    .dataframe thead th {\n",
       "        text-align: right;\n",
       "    }\n",
       "</style>\n",
       "<table border=\"1\" class=\"dataframe\">\n",
       "  <thead>\n",
       "    <tr style=\"text-align: right;\">\n",
       "      <th></th>\n",
       "      <th>order_id</th>\n",
       "      <th>customer_id</th>\n",
       "      <th>order_status</th>\n",
       "      <th>order_purchase_timestamp</th>\n",
       "      <th>order_approved_at</th>\n",
       "      <th>order_delivered_carrier_date</th>\n",
       "      <th>order_delivered_customer_date</th>\n",
       "      <th>order_estimated_delivery_date</th>\n",
       "      <th>payment_sequential</th>\n",
       "      <th>payment_type</th>\n",
       "      <th>payment_installments</th>\n",
       "      <th>payment_value</th>\n",
       "    </tr>\n",
       "  </thead>\n",
       "  <tbody>\n",
       "    <tr>\n",
       "      <th>0</th>\n",
       "      <td>e481f51cbdc54678b7cc49136f2d6af7</td>\n",
       "      <td>9ef432eb6251297304e76186b10a928d</td>\n",
       "      <td>delivered</td>\n",
       "      <td>2017-10-02</td>\n",
       "      <td>2017-10-02</td>\n",
       "      <td>2017-10-04</td>\n",
       "      <td>2017-10-10</td>\n",
       "      <td>2017-10-18</td>\n",
       "      <td>1</td>\n",
       "      <td>credit_card</td>\n",
       "      <td>1</td>\n",
       "      <td>18.12</td>\n",
       "    </tr>\n",
       "    <tr>\n",
       "      <th>4</th>\n",
       "      <td>47770eb9100c2d0c44946d9cf07ec65d</td>\n",
       "      <td>41ce2a54c0b03bf3443c3d931a367089</td>\n",
       "      <td>delivered</td>\n",
       "      <td>2018-08-08</td>\n",
       "      <td>2018-08-08</td>\n",
       "      <td>2018-08-08</td>\n",
       "      <td>2018-08-17</td>\n",
       "      <td>2018-09-04</td>\n",
       "      <td>1</td>\n",
       "      <td>credit_card</td>\n",
       "      <td>3</td>\n",
       "      <td>179.12</td>\n",
       "    </tr>\n",
       "    <tr>\n",
       "      <th>5</th>\n",
       "      <td>949d5b44dbf5de918fe9c16f97b45f8a</td>\n",
       "      <td>f88197465ea7920adcdbec7375364d82</td>\n",
       "      <td>delivered</td>\n",
       "      <td>2017-11-18</td>\n",
       "      <td>2017-11-18</td>\n",
       "      <td>2017-11-22</td>\n",
       "      <td>2017-12-02</td>\n",
       "      <td>2017-12-15</td>\n",
       "      <td>1</td>\n",
       "      <td>credit_card</td>\n",
       "      <td>1</td>\n",
       "      <td>72.20</td>\n",
       "    </tr>\n",
       "    <tr>\n",
       "      <th>6</th>\n",
       "      <td>ad21c59c0840e6cb83a9ceb5573f8159</td>\n",
       "      <td>8ab97904e6daea8866dbdbc4fb7aad2c</td>\n",
       "      <td>delivered</td>\n",
       "      <td>2018-02-13</td>\n",
       "      <td>2018-02-13</td>\n",
       "      <td>2018-02-14</td>\n",
       "      <td>2018-02-16</td>\n",
       "      <td>2018-02-26</td>\n",
       "      <td>1</td>\n",
       "      <td>credit_card</td>\n",
       "      <td>1</td>\n",
       "      <td>28.62</td>\n",
       "    </tr>\n",
       "    <tr>\n",
       "      <th>7</th>\n",
       "      <td>a4591c265e18cb1dcee52889e2d8acc3</td>\n",
       "      <td>503740e9ca751ccdda7ba28e9ab8f608</td>\n",
       "      <td>delivered</td>\n",
       "      <td>2017-07-09</td>\n",
       "      <td>2017-07-09</td>\n",
       "      <td>2017-07-11</td>\n",
       "      <td>2017-07-26</td>\n",
       "      <td>2017-08-01</td>\n",
       "      <td>1</td>\n",
       "      <td>credit_card</td>\n",
       "      <td>6</td>\n",
       "      <td>175.26</td>\n",
       "    </tr>\n",
       "    <tr>\n",
       "      <th>...</th>\n",
       "      <td>...</td>\n",
       "      <td>...</td>\n",
       "      <td>...</td>\n",
       "      <td>...</td>\n",
       "      <td>...</td>\n",
       "      <td>...</td>\n",
       "      <td>...</td>\n",
       "      <td>...</td>\n",
       "      <td>...</td>\n",
       "      <td>...</td>\n",
       "      <td>...</td>\n",
       "      <td>...</td>\n",
       "    </tr>\n",
       "    <tr>\n",
       "      <th>102522</th>\n",
       "      <td>880675dff2150932f1601e1c07eadeeb</td>\n",
       "      <td>47cd45a6ac7b9fb16537df2ccffeb5ac</td>\n",
       "      <td>delivered</td>\n",
       "      <td>2017-02-23</td>\n",
       "      <td>2017-02-23</td>\n",
       "      <td>2017-03-01</td>\n",
       "      <td>2017-03-06</td>\n",
       "      <td>2017-03-22</td>\n",
       "      <td>1</td>\n",
       "      <td>credit_card</td>\n",
       "      <td>3</td>\n",
       "      <td>155.99</td>\n",
       "    </tr>\n",
       "    <tr>\n",
       "      <th>102523</th>\n",
       "      <td>9c5dedf39a927c1b2549525ed64a053c</td>\n",
       "      <td>39bd1228ee8140590ac3aca26f2dfe00</td>\n",
       "      <td>delivered</td>\n",
       "      <td>2017-03-09</td>\n",
       "      <td>2017-03-09</td>\n",
       "      <td>2017-03-10</td>\n",
       "      <td>2017-03-17</td>\n",
       "      <td>2017-03-28</td>\n",
       "      <td>1</td>\n",
       "      <td>credit_card</td>\n",
       "      <td>3</td>\n",
       "      <td>85.08</td>\n",
       "    </tr>\n",
       "    <tr>\n",
       "      <th>102524</th>\n",
       "      <td>63943bddc261676b46f01ca7ac2f7bd8</td>\n",
       "      <td>1fca14ff2861355f6e5f14306ff977a7</td>\n",
       "      <td>delivered</td>\n",
       "      <td>2018-02-06</td>\n",
       "      <td>2018-02-06</td>\n",
       "      <td>2018-02-07</td>\n",
       "      <td>2018-02-28</td>\n",
       "      <td>2018-03-02</td>\n",
       "      <td>1</td>\n",
       "      <td>credit_card</td>\n",
       "      <td>3</td>\n",
       "      <td>195.00</td>\n",
       "    </tr>\n",
       "    <tr>\n",
       "      <th>102525</th>\n",
       "      <td>83c1379a015df1e13d02aae0204711ab</td>\n",
       "      <td>1aa71eb042121263aafbe80c1b562c9c</td>\n",
       "      <td>delivered</td>\n",
       "      <td>2017-08-27</td>\n",
       "      <td>2017-08-27</td>\n",
       "      <td>2017-08-28</td>\n",
       "      <td>2017-09-21</td>\n",
       "      <td>2017-09-27</td>\n",
       "      <td>1</td>\n",
       "      <td>credit_card</td>\n",
       "      <td>5</td>\n",
       "      <td>271.01</td>\n",
       "    </tr>\n",
       "    <tr>\n",
       "      <th>102526</th>\n",
       "      <td>11c177c8e97725db2631073c19f07b62</td>\n",
       "      <td>b331b74b18dc79bcdf6532d51e1637c1</td>\n",
       "      <td>delivered</td>\n",
       "      <td>2018-01-08</td>\n",
       "      <td>2018-01-08</td>\n",
       "      <td>2018-01-12</td>\n",
       "      <td>2018-01-25</td>\n",
       "      <td>2018-02-15</td>\n",
       "      <td>1</td>\n",
       "      <td>credit_card</td>\n",
       "      <td>4</td>\n",
       "      <td>441.16</td>\n",
       "    </tr>\n",
       "  </tbody>\n",
       "</table>\n",
       "<p>75809 rows × 12 columns</p>\n",
       "</div>"
      ],
      "text/plain": [
       "                                order_id                       customer_id  \\\n",
       "0       e481f51cbdc54678b7cc49136f2d6af7  9ef432eb6251297304e76186b10a928d   \n",
       "4       47770eb9100c2d0c44946d9cf07ec65d  41ce2a54c0b03bf3443c3d931a367089   \n",
       "5       949d5b44dbf5de918fe9c16f97b45f8a  f88197465ea7920adcdbec7375364d82   \n",
       "6       ad21c59c0840e6cb83a9ceb5573f8159  8ab97904e6daea8866dbdbc4fb7aad2c   \n",
       "7       a4591c265e18cb1dcee52889e2d8acc3  503740e9ca751ccdda7ba28e9ab8f608   \n",
       "...                                  ...                               ...   \n",
       "102522  880675dff2150932f1601e1c07eadeeb  47cd45a6ac7b9fb16537df2ccffeb5ac   \n",
       "102523  9c5dedf39a927c1b2549525ed64a053c  39bd1228ee8140590ac3aca26f2dfe00   \n",
       "102524  63943bddc261676b46f01ca7ac2f7bd8  1fca14ff2861355f6e5f14306ff977a7   \n",
       "102525  83c1379a015df1e13d02aae0204711ab  1aa71eb042121263aafbe80c1b562c9c   \n",
       "102526  11c177c8e97725db2631073c19f07b62  b331b74b18dc79bcdf6532d51e1637c1   \n",
       "\n",
       "       order_status order_purchase_timestamp order_approved_at  \\\n",
       "0         delivered               2017-10-02        2017-10-02   \n",
       "4         delivered               2018-08-08        2018-08-08   \n",
       "5         delivered               2017-11-18        2017-11-18   \n",
       "6         delivered               2018-02-13        2018-02-13   \n",
       "7         delivered               2017-07-09        2017-07-09   \n",
       "...             ...                      ...               ...   \n",
       "102522    delivered               2017-02-23        2017-02-23   \n",
       "102523    delivered               2017-03-09        2017-03-09   \n",
       "102524    delivered               2018-02-06        2018-02-06   \n",
       "102525    delivered               2017-08-27        2017-08-27   \n",
       "102526    delivered               2018-01-08        2018-01-08   \n",
       "\n",
       "       order_delivered_carrier_date order_delivered_customer_date  \\\n",
       "0                        2017-10-04                    2017-10-10   \n",
       "4                        2018-08-08                    2018-08-17   \n",
       "5                        2017-11-22                    2017-12-02   \n",
       "6                        2018-02-14                    2018-02-16   \n",
       "7                        2017-07-11                    2017-07-26   \n",
       "...                             ...                           ...   \n",
       "102522                   2017-03-01                    2017-03-06   \n",
       "102523                   2017-03-10                    2017-03-17   \n",
       "102524                   2018-02-07                    2018-02-28   \n",
       "102525                   2017-08-28                    2017-09-21   \n",
       "102526                   2018-01-12                    2018-01-25   \n",
       "\n",
       "       order_estimated_delivery_date  payment_sequential payment_type  \\\n",
       "0                         2017-10-18                   1  credit_card   \n",
       "4                         2018-09-04                   1  credit_card   \n",
       "5                         2017-12-15                   1  credit_card   \n",
       "6                         2018-02-26                   1  credit_card   \n",
       "7                         2017-08-01                   1  credit_card   \n",
       "...                              ...                 ...          ...   \n",
       "102522                    2017-03-22                   1  credit_card   \n",
       "102523                    2017-03-28                   1  credit_card   \n",
       "102524                    2018-03-02                   1  credit_card   \n",
       "102525                    2017-09-27                   1  credit_card   \n",
       "102526                    2018-02-15                   1  credit_card   \n",
       "\n",
       "        payment_installments  payment_value  \n",
       "0                          1          18.12  \n",
       "4                          3         179.12  \n",
       "5                          1          72.20  \n",
       "6                          1          28.62  \n",
       "7                          6         175.26  \n",
       "...                      ...            ...  \n",
       "102522                     3         155.99  \n",
       "102523                     3          85.08  \n",
       "102524                     3         195.00  \n",
       "102525                     5         271.01  \n",
       "102526                     4         441.16  \n",
       "\n",
       "[75809 rows x 12 columns]"
      ]
     },
     "execution_count": 18,
     "metadata": {},
     "output_type": "execute_result"
    }
   ],
   "source": [
    "paga.loc[paga.payment_type=='credit_card']"
   ]
  },
  {
   "cell_type": "code",
   "execution_count": 19,
   "metadata": {},
   "outputs": [
    {
     "data": {
      "text/plain": [
       "1     25098\n",
       "2     12255\n",
       "3     10335\n",
       "4      7015\n",
       "10     5247\n",
       "5      5184\n",
       "8      4232\n",
       "6      3872\n",
       "7      1598\n",
       "9       637\n",
       "12      132\n",
       "15       72\n",
       "18       27\n",
       "11       22\n",
       "24       18\n",
       "20       17\n",
       "13       15\n",
       "14       15\n",
       "17        7\n",
       "16        4\n",
       "21        3\n",
       "0         2\n",
       "23        1\n",
       "22        1\n",
       "Name: payment_installments, dtype: int64"
      ]
     },
     "execution_count": 19,
     "metadata": {},
     "output_type": "execute_result"
    }
   ],
   "source": [
    "paga.loc[paga.payment_type=='credit_card', 'payment_installments'].value_counts()"
   ]
  },
  {
   "cell_type": "code",
   "execution_count": 20,
   "metadata": {},
   "outputs": [],
   "source": [
    "paga_parc=paga.loc[paga.payment_type=='credit_card','payment_installments'].value_counts().sort_index()"
   ]
  },
  {
   "cell_type": "code",
   "execution_count": 21,
   "metadata": {},
   "outputs": [
    {
     "data": {
      "text/plain": [
       "<AxesSubplot:>"
      ]
     },
     "execution_count": 21,
     "metadata": {},
     "output_type": "execute_result"
    },
    {
     "data": {
      "image/png": "[encoded data removed]",
      "text/plain": [
       "<Figure size 1000x500 with 1 Axes>"
      ]
     },
     "metadata": {},
     "output_type": "display_data"
    }
   ],
   "source": [
    "paga_parc.plot.bar(figsize=(10,5))"
   ]
  },
  {
   "cell_type": "code",
   "execution_count": 22,
   "metadata": {},
   "outputs": [
    {
     "data": {
      "image/png": "[encoded data removed]",
      "text/plain": [
       "<Figure size 1000x500 with 1 Axes>"
      ]
     },
     "metadata": {},
     "output_type": "display_data"
    }
   ],
   "source": [
    "paga_parc.plot.bar(figsize=(10,5))\n",
    "plt.savefig(\"parc\", bbox_inches='tight', transparent=True)"
   ]
  },
  {
   "cell_type": "code",
   "execution_count": 23,
   "metadata": {},
   "outputs": [
    {
     "data": {
      "text/plain": [
       "0      0.00\n",
       "1     33.11\n",
       "2     16.17\n",
       "3     13.63\n",
       "4      9.25\n",
       "5      6.84\n",
       "6      5.11\n",
       "7      2.11\n",
       "8      5.58\n",
       "9      0.84\n",
       "10     6.92\n",
       "11     0.03\n",
       "12     0.17\n",
       "13     0.02\n",
       "14     0.02\n",
       "15     0.09\n",
       "16     0.01\n",
       "17     0.01\n",
       "18     0.04\n",
       "20     0.02\n",
       "21     0.00\n",
       "22     0.00\n",
       "23     0.00\n",
       "24     0.02\n",
       "Name: payment_installments, dtype: float64"
      ]
     },
     "execution_count": 23,
     "metadata": {},
     "output_type": "execute_result"
    }
   ],
   "source": [
    "tot_parc=paga_parc.sum()\n",
    "paga_parc\n",
    "round((paga_parc/tot_parc)*100,2)"
   ]
  },
  {
   "cell_type": "code",
   "execution_count": 24,
   "metadata": {},
   "outputs": [
    {
     "data": {
      "text/plain": [
       "15821063.889999997"
      ]
     },
     "execution_count": 24,
     "metadata": {},
     "output_type": "execute_result"
    }
   ],
   "source": [
    "paga.payment_value.sum()"
   ]
  },
  {
   "cell_type": "code",
   "execution_count": 25,
   "metadata": {},
   "outputs": [
    {
     "data": {
      "text/plain": [
       "154.30968993835828"
      ]
     },
     "execution_count": 25,
     "metadata": {},
     "output_type": "execute_result"
    }
   ],
   "source": [
    "paga.payment_value.sum()/paga.payment_value.count()"
   ]
  },
  {
   "cell_type": "code",
   "execution_count": 26,
   "metadata": {},
   "outputs": [
    {
     "data": {
      "text/plain": [
       "154.30968993835828"
      ]
     },
     "execution_count": 26,
     "metadata": {},
     "output_type": "execute_result"
    }
   ],
   "source": [
    "paga.payment_value.mean()"
   ]
  },
  {
   "cell_type": "code",
   "execution_count": 27,
   "metadata": {},
   "outputs": [
    {
     "data": {
      "text/html": [
       "<div>\n",
       "<style scoped>\n",
       "    .dataframe tbody tr th:only-of-type {\n",
       "        vertical-align: middle;\n",
       "    }\n",
       "\n",
       "    .dataframe tbody tr th {\n",
       "        vertical-align: top;\n",
       "    }\n",
       "\n",
       "    .dataframe thead th {\n",
       "        text-align: right;\n",
       "    }\n",
       "</style>\n",
       "<table border=\"1\" class=\"dataframe\">\n",
       "  <thead>\n",
       "    <tr style=\"text-align: right;\">\n",
       "      <th></th>\n",
       "      <th>order_id</th>\n",
       "      <th>customer_id</th>\n",
       "      <th>order_status</th>\n",
       "      <th>order_purchase_timestamp</th>\n",
       "      <th>order_approved_at</th>\n",
       "      <th>order_delivered_carrier_date</th>\n",
       "      <th>order_delivered_customer_date</th>\n",
       "      <th>order_estimated_delivery_date</th>\n",
       "      <th>payment_sequential</th>\n",
       "      <th>payment_type</th>\n",
       "      <th>payment_installments</th>\n",
       "      <th>payment_value</th>\n",
       "    </tr>\n",
       "  </thead>\n",
       "  <tbody>\n",
       "    <tr>\n",
       "      <th>0</th>\n",
       "      <td>e481f51cbdc54678b7cc49136f2d6af7</td>\n",
       "      <td>9ef432eb6251297304e76186b10a928d</td>\n",
       "      <td>delivered</td>\n",
       "      <td>2017-10-02</td>\n",
       "      <td>2017-10-02</td>\n",
       "      <td>2017-10-04</td>\n",
       "      <td>2017-10-10</td>\n",
       "      <td>2017-10-18</td>\n",
       "      <td>1</td>\n",
       "      <td>credit_card</td>\n",
       "      <td>1</td>\n",
       "      <td>18.12</td>\n",
       "    </tr>\n",
       "    <tr>\n",
       "      <th>1</th>\n",
       "      <td>e481f51cbdc54678b7cc49136f2d6af7</td>\n",
       "      <td>9ef432eb6251297304e76186b10a928d</td>\n",
       "      <td>delivered</td>\n",
       "      <td>2017-10-02</td>\n",
       "      <td>2017-10-02</td>\n",
       "      <td>2017-10-04</td>\n",
       "      <td>2017-10-10</td>\n",
       "      <td>2017-10-18</td>\n",
       "      <td>2</td>\n",
       "      <td>voucher</td>\n",
       "      <td>1</td>\n",
       "      <td>18.59</td>\n",
       "    </tr>\n",
       "    <tr>\n",
       "      <th>2</th>\n",
       "      <td>e481f51cbdc54678b7cc49136f2d6af7</td>\n",
       "      <td>9ef432eb6251297304e76186b10a928d</td>\n",
       "      <td>delivered</td>\n",
       "      <td>2017-10-02</td>\n",
       "      <td>2017-10-02</td>\n",
       "      <td>2017-10-04</td>\n",
       "      <td>2017-10-10</td>\n",
       "      <td>2017-10-18</td>\n",
       "      <td>3</td>\n",
       "      <td>voucher</td>\n",
       "      <td>1</td>\n",
       "      <td>2.00</td>\n",
       "    </tr>\n",
       "  </tbody>\n",
       "</table>\n",
       "</div>"
      ],
      "text/plain": [
       "                           order_id                       customer_id  \\\n",
       "0  e481f51cbdc54678b7cc49136f2d6af7  9ef432eb6251297304e76186b10a928d   \n",
       "1  e481f51cbdc54678b7cc49136f2d6af7  9ef432eb6251297304e76186b10a928d   \n",
       "2  e481f51cbdc54678b7cc49136f2d6af7  9ef432eb6251297304e76186b10a928d   \n",
       "\n",
       "  order_status order_purchase_timestamp order_approved_at  \\\n",
       "0    delivered               2017-10-02        2017-10-02   \n",
       "1    delivered               2017-10-02        2017-10-02   \n",
       "2    delivered               2017-10-02        2017-10-02   \n",
       "\n",
       "  order_delivered_carrier_date order_delivered_customer_date  \\\n",
       "0                   2017-10-04                    2017-10-10   \n",
       "1                   2017-10-04                    2017-10-10   \n",
       "2                   2017-10-04                    2017-10-10   \n",
       "\n",
       "  order_estimated_delivery_date  payment_sequential payment_type  \\\n",
       "0                    2017-10-18                   1  credit_card   \n",
       "1                    2017-10-18                   2      voucher   \n",
       "2                    2017-10-18                   3      voucher   \n",
       "\n",
       "   payment_installments  payment_value  \n",
       "0                     1          18.12  \n",
       "1                     1          18.59  \n",
       "2                     1           2.00  "
      ]
     },
     "execution_count": 27,
     "metadata": {},
     "output_type": "execute_result"
    }
   ],
   "source": [
    "paga.head(3)"
   ]
  },
  {
   "cell_type": "code",
   "execution_count": 28,
   "metadata": {},
   "outputs": [
    {
     "data": {
      "text/plain": [
       "payment_type\n",
       "boleto         145.430333\n",
       "credit_card    163.530169\n",
       "debit_card     143.290572\n",
       "voucher         64.838404\n",
       "Name: payment_value, dtype: float64"
      ]
     },
     "execution_count": 28,
     "metadata": {},
     "output_type": "execute_result"
    }
   ],
   "source": [
    "paga.groupby('payment_type')['payment_value'].mean()"
   ]
  },
  {
   "cell_type": "code",
   "execution_count": 29,
   "metadata": {},
   "outputs": [
    {
     "data": {
      "text/plain": [
       "payment_type\n",
       "credit_card    12397058.59\n",
       "boleto          2842144.99\n",
       "voucher          368930.52\n",
       "debit_card       212929.79\n",
       "Name: payment_value, dtype: float64"
      ]
     },
     "execution_count": 29,
     "metadata": {},
     "output_type": "execute_result"
    }
   ],
   "source": [
    "paga.groupby('payment_type')['payment_value'].sum().sort_values(ascending=False)"
   ]
  },
  {
   "cell_type": "code",
   "execution_count": 30,
   "metadata": {},
   "outputs": [
    {
     "data": {
      "text/plain": [
       "<AxesSubplot:xlabel='payment_type'>"
      ]
     },
     "execution_count": 30,
     "metadata": {},
     "output_type": "execute_result"
    },
    {
     "data": {
      "image/png": "[encoded data removed]",
      "text/plain": [
       "<Figure size 640x480 with 1 Axes>"
      ]
     },
     "metadata": {},
     "output_type": "display_data"
    }
   ],
   "source": [
    "paga.groupby('payment_type')['payment_value'].sum().sort_values(ascending=False).plot.bar()"
   ]
  },
  {
   "cell_type": "code",
   "execution_count": 31,
   "metadata": {},
   "outputs": [
    {
     "data": {
      "text/plain": [
       "payment_installments\n",
       "0      94.315000\n",
       "1      96.133129\n",
       "2     127.260781\n",
       "3     142.776074\n",
       "4     164.268574\n",
       "5     183.344851\n",
       "6     210.148698\n",
       "7     188.499869\n",
       "8     308.104910\n",
       "9     203.799953\n",
       "10    414.834061\n",
       "11    125.478636\n",
       "12    323.144470\n",
       "13    151.318000\n",
       "14    167.962667\n",
       "15    451.722083\n",
       "16    285.677500\n",
       "17    174.224286\n",
       "18    486.483333\n",
       "20    615.801765\n",
       "21    243.700000\n",
       "22    228.710000\n",
       "23    236.480000\n",
       "24    610.048889\n",
       "Name: payment_value, dtype: float64"
      ]
     },
     "execution_count": 31,
     "metadata": {},
     "output_type": "execute_result"
    }
   ],
   "source": [
    "paga[paga.payment_type=='credit_card'].groupby('payment_installments')['payment_value'].mean()"
   ]
  },
  {
   "cell_type": "code",
   "execution_count": 32,
   "metadata": {},
   "outputs": [
    {
     "data": {
      "text/html": [
       "<div>\n",
       "<style scoped>\n",
       "    .dataframe tbody tr th:only-of-type {\n",
       "        vertical-align: middle;\n",
       "    }\n",
       "\n",
       "    .dataframe tbody tr th {\n",
       "        vertical-align: top;\n",
       "    }\n",
       "\n",
       "    .dataframe thead th {\n",
       "        text-align: right;\n",
       "    }\n",
       "</style>\n",
       "<table border=\"1\" class=\"dataframe\">\n",
       "  <thead>\n",
       "    <tr style=\"text-align: right;\">\n",
       "      <th></th>\n",
       "      <th>order_id</th>\n",
       "      <th>customer_id</th>\n",
       "      <th>order_status</th>\n",
       "      <th>order_purchase_timestamp</th>\n",
       "      <th>order_approved_at</th>\n",
       "      <th>order_delivered_carrier_date</th>\n",
       "      <th>order_delivered_customer_date</th>\n",
       "      <th>order_estimated_delivery_date</th>\n",
       "      <th>order_item_id</th>\n",
       "      <th>product_id</th>\n",
       "      <th>...</th>\n",
       "      <th>price</th>\n",
       "      <th>freight_value</th>\n",
       "      <th>product_category_name</th>\n",
       "      <th>customer_unique_id</th>\n",
       "      <th>customer_city</th>\n",
       "      <th>customer_state</th>\n",
       "      <th>dia_compra</th>\n",
       "      <th>mes_compra</th>\n",
       "      <th>ano_compra</th>\n",
       "      <th>ano_mes</th>\n",
       "    </tr>\n",
       "  </thead>\n",
       "  <tbody>\n",
       "    <tr>\n",
       "      <th>0</th>\n",
       "      <td>e481f51cbdc54678b7cc49136f2d6af7</td>\n",
       "      <td>9ef432eb6251297304e76186b10a928d</td>\n",
       "      <td>delivered</td>\n",
       "      <td>2017-10-02</td>\n",
       "      <td>2017-10-02</td>\n",
       "      <td>2017-10-04</td>\n",
       "      <td>2017-10-10</td>\n",
       "      <td>2017-10-18</td>\n",
       "      <td>1.0</td>\n",
       "      <td>87285b34884572647811a353c7ac498a</td>\n",
       "      <td>...</td>\n",
       "      <td>29.99</td>\n",
       "      <td>8.72</td>\n",
       "      <td>utilidades_domesticas</td>\n",
       "      <td>7c396fd4830fd04220f754e42b4e5bff</td>\n",
       "      <td>sao paulo</td>\n",
       "      <td>SP</td>\n",
       "      <td>2</td>\n",
       "      <td>10</td>\n",
       "      <td>2017</td>\n",
       "      <td>2017-10</td>\n",
       "    </tr>\n",
       "    <tr>\n",
       "      <th>1</th>\n",
       "      <td>53cdb2fc8bc7dce0b6741e2150273451</td>\n",
       "      <td>b0830fb4747a6c6d20dea0b8c802d7ef</td>\n",
       "      <td>delivered</td>\n",
       "      <td>2018-07-24</td>\n",
       "      <td>2018-07-26</td>\n",
       "      <td>2018-07-26</td>\n",
       "      <td>2018-08-07</td>\n",
       "      <td>2018-08-13</td>\n",
       "      <td>1.0</td>\n",
       "      <td>595fac2a385ac33a80bd5114aec74eb8</td>\n",
       "      <td>...</td>\n",
       "      <td>118.70</td>\n",
       "      <td>22.76</td>\n",
       "      <td>perfumaria</td>\n",
       "      <td>af07308b275d755c9edb36a90c618231</td>\n",
       "      <td>barreiras</td>\n",
       "      <td>BA</td>\n",
       "      <td>24</td>\n",
       "      <td>7</td>\n",
       "      <td>2018</td>\n",
       "      <td>2018-07</td>\n",
       "    </tr>\n",
       "    <tr>\n",
       "      <th>2</th>\n",
       "      <td>47770eb9100c2d0c44946d9cf07ec65d</td>\n",
       "      <td>41ce2a54c0b03bf3443c3d931a367089</td>\n",
       "      <td>delivered</td>\n",
       "      <td>2018-08-08</td>\n",
       "      <td>2018-08-08</td>\n",
       "      <td>2018-08-08</td>\n",
       "      <td>2018-08-17</td>\n",
       "      <td>2018-09-04</td>\n",
       "      <td>1.0</td>\n",
       "      <td>aa4383b373c6aca5d8797843e5594415</td>\n",
       "      <td>...</td>\n",
       "      <td>159.90</td>\n",
       "      <td>19.22</td>\n",
       "      <td>automotivo</td>\n",
       "      <td>3a653a41f6f9fc3d2a113cf8398680e8</td>\n",
       "      <td>vianopolis</td>\n",
       "      <td>GO</td>\n",
       "      <td>8</td>\n",
       "      <td>8</td>\n",
       "      <td>2018</td>\n",
       "      <td>2018-08</td>\n",
       "    </tr>\n",
       "  </tbody>\n",
       "</table>\n",
       "<p>3 rows × 22 columns</p>\n",
       "</div>"
      ],
      "text/plain": [
       "                           order_id                       customer_id  \\\n",
       "0  e481f51cbdc54678b7cc49136f2d6af7  9ef432eb6251297304e76186b10a928d   \n",
       "1  53cdb2fc8bc7dce0b6741e2150273451  b0830fb4747a6c6d20dea0b8c802d7ef   \n",
       "2  47770eb9100c2d0c44946d9cf07ec65d  41ce2a54c0b03bf3443c3d931a367089   \n",
       "\n",
       "  order_status order_purchase_timestamp order_approved_at  \\\n",
       "0    delivered               2017-10-02        2017-10-02   \n",
       "1    delivered               2018-07-24        2018-07-26   \n",
       "2    delivered               2018-08-08        2018-08-08   \n",
       "\n",
       "  order_delivered_carrier_date order_delivered_customer_date  \\\n",
       "0                   2017-10-04                    2017-10-10   \n",
       "1                   2018-07-26                    2018-08-07   \n",
       "2                   2018-08-08                    2018-08-17   \n",
       "\n",
       "  order_estimated_delivery_date  order_item_id  \\\n",
       "0                    2017-10-18            1.0   \n",
       "1                    2018-08-13            1.0   \n",
       "2                    2018-09-04            1.0   \n",
       "\n",
       "                         product_id  ...   price freight_value  \\\n",
       "0  87285b34884572647811a353c7ac498a  ...   29.99          8.72   \n",
       "1  595fac2a385ac33a80bd5114aec74eb8  ...  118.70         22.76   \n",
       "2  aa4383b373c6aca5d8797843e5594415  ...  159.90         19.22   \n",
       "\n",
       "   product_category_name                customer_unique_id customer_city  \\\n",
       "0  utilidades_domesticas  7c396fd4830fd04220f754e42b4e5bff     sao paulo   \n",
       "1             perfumaria  af07308b275d755c9edb36a90c618231     barreiras   \n",
       "2             automotivo  3a653a41f6f9fc3d2a113cf8398680e8    vianopolis   \n",
       "\n",
       "  customer_state dia_compra mes_compra  ano_compra  ano_mes  \n",
       "0             SP          2         10        2017  2017-10  \n",
       "1             BA         24          7        2018  2018-07  \n",
       "2             GO          8          8        2018  2018-08  \n",
       "\n",
       "[3 rows x 22 columns]"
      ]
     },
     "execution_count": 32,
     "metadata": {},
     "output_type": "execute_result"
    }
   ],
   "source": [
    "vendas.head(3)"
   ]
  },
  {
   "cell_type": "code",
   "execution_count": 33,
   "metadata": {},
   "outputs": [
    {
     "data": {
      "text/plain": [
       "order_id                            0\n",
       "customer_id                         0\n",
       "order_status                        0\n",
       "order_purchase_timestamp            0\n",
       "order_approved_at                 115\n",
       "order_delivered_carrier_date     1873\n",
       "order_delivered_customer_date    3119\n",
       "order_estimated_delivery_date       0\n",
       "order_item_id                     717\n",
       "product_id                        717\n",
       "seller_id                         717\n",
       "shipping_limit_date               717\n",
       "price                             717\n",
       "freight_value                     717\n",
       "product_category_name            2315\n",
       "customer_unique_id                  0\n",
       "customer_city                       0\n",
       "customer_state                      0\n",
       "dia_compra                          0\n",
       "mes_compra                          0\n",
       "ano_compra                          0\n",
       "ano_mes                             0\n",
       "dtype: int64"
      ]
     },
     "execution_count": 33,
     "metadata": {},
     "output_type": "execute_result"
    }
   ],
   "source": [
    "vendas.isnull().sum()"
   ]
  },
  {
   "cell_type": "code",
   "execution_count": 34,
   "metadata": {},
   "outputs": [],
   "source": [
    "preço = vendas.price.sum()"
   ]
  },
  {
   "cell_type": "code",
   "execution_count": 35,
   "metadata": {},
   "outputs": [
    {
     "data": {
      "text/plain": [
       "13438795.230000002"
      ]
     },
     "execution_count": 35,
     "metadata": {},
     "output_type": "execute_result"
    }
   ],
   "source": [
    "preço"
   ]
  },
  {
   "cell_type": "code",
   "execution_count": 36,
   "metadata": {},
   "outputs": [
    {
     "data": {
      "text/plain": [
       "2227687.37"
      ]
     },
     "execution_count": 36,
     "metadata": {},
     "output_type": "execute_result"
    }
   ],
   "source": [
    "frete=vendas.freight_value.sum()\n",
    "frete"
   ]
  },
  {
   "cell_type": "code",
   "execution_count": 37,
   "metadata": {},
   "outputs": [
    {
     "data": {
      "text/plain": [
       "15666482.600000001"
      ]
     },
     "execution_count": 37,
     "metadata": {},
     "output_type": "execute_result"
    }
   ],
   "source": [
    "preço+frete\n"
   ]
  },
  {
   "cell_type": "code",
   "execution_count": 38,
   "metadata": {},
   "outputs": [
    {
     "data": {
      "text/plain": [
       "300       8e24261a7e58791d10cb1bf9da94df5c\n",
       "658       c272bcd21c287498b4883c7512019702\n",
       "778       37553832a3a89c9b2db59701c357ca67\n",
       "834       d57e15fb07fd180f06ab3926b39edcd2\n",
       "1302      2f634e2cebf8c0283e7ef0989f77d217\n",
       "                        ...               \n",
       "111597    6cf5c427fb11bc5fe8abefa86aa7ba0b\n",
       "111691    1c7c8ab324927f5b6e52338bd110bef4\n",
       "111709    aaab15da689073f8f9aa978a390a69d1\n",
       "111824    a69ba794cc7deb415c3e15a0a3877e69\n",
       "111895    5fabc81b6322c8443648e1b21a6fef21\n",
       "Name: order_id, Length: 717, dtype: object"
      ]
     },
     "execution_count": 38,
     "metadata": {},
     "output_type": "execute_result"
    }
   ],
   "source": [
    "vendas.loc[vendas.price.isnull(),'order_id']"
   ]
  },
  {
   "cell_type": "code",
   "execution_count": 39,
   "metadata": {},
   "outputs": [
    {
     "data": {
      "text/html": [
       "<div>\n",
       "<style scoped>\n",
       "    .dataframe tbody tr th:only-of-type {\n",
       "        vertical-align: middle;\n",
       "    }\n",
       "\n",
       "    .dataframe tbody tr th {\n",
       "        vertical-align: top;\n",
       "    }\n",
       "\n",
       "    .dataframe thead th {\n",
       "        text-align: right;\n",
       "    }\n",
       "</style>\n",
       "<table border=\"1\" class=\"dataframe\">\n",
       "  <thead>\n",
       "    <tr style=\"text-align: right;\">\n",
       "      <th></th>\n",
       "      <th>order_id</th>\n",
       "      <th>customer_id</th>\n",
       "      <th>order_status</th>\n",
       "      <th>order_purchase_timestamp</th>\n",
       "      <th>order_approved_at</th>\n",
       "      <th>order_delivered_carrier_date</th>\n",
       "      <th>order_delivered_customer_date</th>\n",
       "      <th>order_estimated_delivery_date</th>\n",
       "      <th>payment_sequential</th>\n",
       "      <th>payment_type</th>\n",
       "      <th>payment_installments</th>\n",
       "      <th>payment_value</th>\n",
       "    </tr>\n",
       "  </thead>\n",
       "  <tbody>\n",
       "    <tr>\n",
       "      <th>275</th>\n",
       "      <td>8e24261a7e58791d10cb1bf9da94df5c</td>\n",
       "      <td>64a254d30eed42cd0e6c36dddb88adf0</td>\n",
       "      <td>unavailable</td>\n",
       "      <td>2017-11-16</td>\n",
       "      <td>2017-11-16</td>\n",
       "      <td>NaT</td>\n",
       "      <td>NaT</td>\n",
       "      <td>2017-12-05</td>\n",
       "      <td>1</td>\n",
       "      <td>credit_card</td>\n",
       "      <td>5</td>\n",
       "      <td>84.0</td>\n",
       "    </tr>\n",
       "  </tbody>\n",
       "</table>\n",
       "</div>"
      ],
      "text/plain": [
       "                             order_id                       customer_id  \\\n",
       "275  8e24261a7e58791d10cb1bf9da94df5c  64a254d30eed42cd0e6c36dddb88adf0   \n",
       "\n",
       "    order_status order_purchase_timestamp order_approved_at  \\\n",
       "275  unavailable               2017-11-16        2017-11-16   \n",
       "\n",
       "    order_delivered_carrier_date order_delivered_customer_date  \\\n",
       "275                          NaT                           NaT   \n",
       "\n",
       "    order_estimated_delivery_date  payment_sequential payment_type  \\\n",
       "275                    2017-12-05                   1  credit_card   \n",
       "\n",
       "     payment_installments  payment_value  \n",
       "275                     5           84.0  "
      ]
     },
     "execution_count": 39,
     "metadata": {},
     "output_type": "execute_result"
    }
   ],
   "source": [
    "paga[paga.order_id=='8e24261a7e58791d10cb1bf9da94df5c']"
   ]
  },
  {
   "cell_type": "code",
   "execution_count": 40,
   "metadata": {},
   "outputs": [
    {
     "data": {
      "text/html": [
       "<div>\n",
       "<style scoped>\n",
       "    .dataframe tbody tr th:only-of-type {\n",
       "        vertical-align: middle;\n",
       "    }\n",
       "\n",
       "    .dataframe tbody tr th {\n",
       "        vertical-align: top;\n",
       "    }\n",
       "\n",
       "    .dataframe thead th {\n",
       "        text-align: right;\n",
       "    }\n",
       "</style>\n",
       "<table border=\"1\" class=\"dataframe\">\n",
       "  <thead>\n",
       "    <tr style=\"text-align: right;\">\n",
       "      <th></th>\n",
       "      <th>order_id</th>\n",
       "      <th>customer_id</th>\n",
       "      <th>order_status</th>\n",
       "      <th>order_purchase_timestamp</th>\n",
       "      <th>order_approved_at</th>\n",
       "      <th>order_delivered_carrier_date</th>\n",
       "      <th>order_delivered_customer_date</th>\n",
       "      <th>order_estimated_delivery_date</th>\n",
       "      <th>payment_sequential</th>\n",
       "      <th>payment_type</th>\n",
       "      <th>payment_installments</th>\n",
       "      <th>payment_value</th>\n",
       "    </tr>\n",
       "  </thead>\n",
       "  <tbody>\n",
       "    <tr>\n",
       "      <th>275</th>\n",
       "      <td>8e24261a7e58791d10cb1bf9da94df5c</td>\n",
       "      <td>64a254d30eed42cd0e6c36dddb88adf0</td>\n",
       "      <td>unavailable</td>\n",
       "      <td>2017-11-16</td>\n",
       "      <td>2017-11-16</td>\n",
       "      <td>NaT</td>\n",
       "      <td>NaT</td>\n",
       "      <td>2017-12-05</td>\n",
       "      <td>1</td>\n",
       "      <td>credit_card</td>\n",
       "      <td>5</td>\n",
       "      <td>84.00</td>\n",
       "    </tr>\n",
       "    <tr>\n",
       "      <th>603</th>\n",
       "      <td>c272bcd21c287498b4883c7512019702</td>\n",
       "      <td>9582c5bbecc65eb568e2c1d839b5cba1</td>\n",
       "      <td>unavailable</td>\n",
       "      <td>2018-01-31</td>\n",
       "      <td>2018-01-31</td>\n",
       "      <td>NaT</td>\n",
       "      <td>NaT</td>\n",
       "      <td>2018-02-16</td>\n",
       "      <td>1</td>\n",
       "      <td>credit_card</td>\n",
       "      <td>1</td>\n",
       "      <td>97.68</td>\n",
       "    </tr>\n",
       "    <tr>\n",
       "      <th>705</th>\n",
       "      <td>37553832a3a89c9b2db59701c357ca67</td>\n",
       "      <td>7607cd563696c27ede287e515812d528</td>\n",
       "      <td>unavailable</td>\n",
       "      <td>2017-08-14</td>\n",
       "      <td>2017-08-17</td>\n",
       "      <td>NaT</td>\n",
       "      <td>NaT</td>\n",
       "      <td>2017-09-05</td>\n",
       "      <td>1</td>\n",
       "      <td>boleto</td>\n",
       "      <td>1</td>\n",
       "      <td>132.46</td>\n",
       "    </tr>\n",
       "    <tr>\n",
       "      <th>753</th>\n",
       "      <td>d57e15fb07fd180f06ab3926b39edcd2</td>\n",
       "      <td>470b93b3f1cde85550fc74cd3a476c78</td>\n",
       "      <td>unavailable</td>\n",
       "      <td>2018-01-08</td>\n",
       "      <td>2018-01-09</td>\n",
       "      <td>NaT</td>\n",
       "      <td>NaT</td>\n",
       "      <td>2018-02-06</td>\n",
       "      <td>1</td>\n",
       "      <td>boleto</td>\n",
       "      <td>1</td>\n",
       "      <td>134.38</td>\n",
       "    </tr>\n",
       "    <tr>\n",
       "      <th>1184</th>\n",
       "      <td>2f634e2cebf8c0283e7ef0989f77d217</td>\n",
       "      <td>7353b0fb8e8d9675e3a704c60ca44ebe</td>\n",
       "      <td>unavailable</td>\n",
       "      <td>2017-09-27</td>\n",
       "      <td>2017-09-28</td>\n",
       "      <td>NaT</td>\n",
       "      <td>NaT</td>\n",
       "      <td>2017-10-27</td>\n",
       "      <td>1</td>\n",
       "      <td>credit_card</td>\n",
       "      <td>12</td>\n",
       "      <td>615.53</td>\n",
       "    </tr>\n",
       "    <tr>\n",
       "      <th>...</th>\n",
       "      <td>...</td>\n",
       "      <td>...</td>\n",
       "      <td>...</td>\n",
       "      <td>...</td>\n",
       "      <td>...</td>\n",
       "      <td>...</td>\n",
       "      <td>...</td>\n",
       "      <td>...</td>\n",
       "      <td>...</td>\n",
       "      <td>...</td>\n",
       "      <td>...</td>\n",
       "      <td>...</td>\n",
       "    </tr>\n",
       "    <tr>\n",
       "      <th>102320</th>\n",
       "      <td>1c7c8ab324927f5b6e52338bd110bef4</td>\n",
       "      <td>95b1767df51d6fa09402267d8de314df</td>\n",
       "      <td>unavailable</td>\n",
       "      <td>2017-12-23</td>\n",
       "      <td>2017-12-23</td>\n",
       "      <td>NaT</td>\n",
       "      <td>NaT</td>\n",
       "      <td>2018-01-19</td>\n",
       "      <td>1</td>\n",
       "      <td>credit_card</td>\n",
       "      <td>3</td>\n",
       "      <td>110.09</td>\n",
       "    </tr>\n",
       "    <tr>\n",
       "      <th>102321</th>\n",
       "      <td>1c7c8ab324927f5b6e52338bd110bef4</td>\n",
       "      <td>95b1767df51d6fa09402267d8de314df</td>\n",
       "      <td>unavailable</td>\n",
       "      <td>2017-12-23</td>\n",
       "      <td>2017-12-23</td>\n",
       "      <td>NaT</td>\n",
       "      <td>NaT</td>\n",
       "      <td>2018-01-19</td>\n",
       "      <td>2</td>\n",
       "      <td>voucher</td>\n",
       "      <td>1</td>\n",
       "      <td>824.00</td>\n",
       "    </tr>\n",
       "    <tr>\n",
       "      <th>102339</th>\n",
       "      <td>aaab15da689073f8f9aa978a390a69d1</td>\n",
       "      <td>df20748206e4b865b2f14a5eabbfcf34</td>\n",
       "      <td>unavailable</td>\n",
       "      <td>2018-01-16</td>\n",
       "      <td>2018-01-17</td>\n",
       "      <td>NaT</td>\n",
       "      <td>NaT</td>\n",
       "      <td>2018-02-06</td>\n",
       "      <td>1</td>\n",
       "      <td>boleto</td>\n",
       "      <td>1</td>\n",
       "      <td>210.09</td>\n",
       "    </tr>\n",
       "    <tr>\n",
       "      <th>102434</th>\n",
       "      <td>a69ba794cc7deb415c3e15a0a3877e69</td>\n",
       "      <td>726f0894b5becdf952ea537d5266e543</td>\n",
       "      <td>unavailable</td>\n",
       "      <td>2017-08-23</td>\n",
       "      <td>2017-08-28</td>\n",
       "      <td>NaT</td>\n",
       "      <td>NaT</td>\n",
       "      <td>2017-09-15</td>\n",
       "      <td>1</td>\n",
       "      <td>credit_card</td>\n",
       "      <td>2</td>\n",
       "      <td>195.91</td>\n",
       "    </tr>\n",
       "    <tr>\n",
       "      <th>102500</th>\n",
       "      <td>5fabc81b6322c8443648e1b21a6fef21</td>\n",
       "      <td>32c9df889d41b0ee8309a5efb6855dcb</td>\n",
       "      <td>unavailable</td>\n",
       "      <td>2017-10-10</td>\n",
       "      <td>2017-10-14</td>\n",
       "      <td>NaT</td>\n",
       "      <td>NaT</td>\n",
       "      <td>2017-10-23</td>\n",
       "      <td>1</td>\n",
       "      <td>boleto</td>\n",
       "      <td>1</td>\n",
       "      <td>133.97</td>\n",
       "    </tr>\n",
       "  </tbody>\n",
       "</table>\n",
       "<p>772 rows × 12 columns</p>\n",
       "</div>"
      ],
      "text/plain": [
       "                                order_id                       customer_id  \\\n",
       "275     8e24261a7e58791d10cb1bf9da94df5c  64a254d30eed42cd0e6c36dddb88adf0   \n",
       "603     c272bcd21c287498b4883c7512019702  9582c5bbecc65eb568e2c1d839b5cba1   \n",
       "705     37553832a3a89c9b2db59701c357ca67  7607cd563696c27ede287e515812d528   \n",
       "753     d57e15fb07fd180f06ab3926b39edcd2  470b93b3f1cde85550fc74cd3a476c78   \n",
       "1184    2f634e2cebf8c0283e7ef0989f77d217  7353b0fb8e8d9675e3a704c60ca44ebe   \n",
       "...                                  ...                               ...   \n",
       "102320  1c7c8ab324927f5b6e52338bd110bef4  95b1767df51d6fa09402267d8de314df   \n",
       "102321  1c7c8ab324927f5b6e52338bd110bef4  95b1767df51d6fa09402267d8de314df   \n",
       "102339  aaab15da689073f8f9aa978a390a69d1  df20748206e4b865b2f14a5eabbfcf34   \n",
       "102434  a69ba794cc7deb415c3e15a0a3877e69  726f0894b5becdf952ea537d5266e543   \n",
       "102500  5fabc81b6322c8443648e1b21a6fef21  32c9df889d41b0ee8309a5efb6855dcb   \n",
       "\n",
       "       order_status order_purchase_timestamp order_approved_at  \\\n",
       "275     unavailable               2017-11-16        2017-11-16   \n",
       "603     unavailable               2018-01-31        2018-01-31   \n",
       "705     unavailable               2017-08-14        2017-08-17   \n",
       "753     unavailable               2018-01-08        2018-01-09   \n",
       "1184    unavailable               2017-09-27        2017-09-28   \n",
       "...             ...                      ...               ...   \n",
       "102320  unavailable               2017-12-23        2017-12-23   \n",
       "102321  unavailable               2017-12-23        2017-12-23   \n",
       "102339  unavailable               2018-01-16        2018-01-17   \n",
       "102434  unavailable               2017-08-23        2017-08-28   \n",
       "102500  unavailable               2017-10-10        2017-10-14   \n",
       "\n",
       "       order_delivered_carrier_date order_delivered_customer_date  \\\n",
       "275                             NaT                           NaT   \n",
       "603                             NaT                           NaT   \n",
       "705                             NaT                           NaT   \n",
       "753                             NaT                           NaT   \n",
       "1184                            NaT                           NaT   \n",
       "...                             ...                           ...   \n",
       "102320                          NaT                           NaT   \n",
       "102321                          NaT                           NaT   \n",
       "102339                          NaT                           NaT   \n",
       "102434                          NaT                           NaT   \n",
       "102500                          NaT                           NaT   \n",
       "\n",
       "       order_estimated_delivery_date  payment_sequential payment_type  \\\n",
       "275                       2017-12-05                   1  credit_card   \n",
       "603                       2018-02-16                   1  credit_card   \n",
       "705                       2017-09-05                   1       boleto   \n",
       "753                       2018-02-06                   1       boleto   \n",
       "1184                      2017-10-27                   1  credit_card   \n",
       "...                              ...                 ...          ...   \n",
       "102320                    2018-01-19                   1  credit_card   \n",
       "102321                    2018-01-19                   2      voucher   \n",
       "102339                    2018-02-06                   1       boleto   \n",
       "102434                    2017-09-15                   1  credit_card   \n",
       "102500                    2017-10-23                   1       boleto   \n",
       "\n",
       "        payment_installments  payment_value  \n",
       "275                        5          84.00  \n",
       "603                        1          97.68  \n",
       "705                        1         132.46  \n",
       "753                        1         134.38  \n",
       "1184                      12         615.53  \n",
       "...                      ...            ...  \n",
       "102320                     3         110.09  \n",
       "102321                     1         824.00  \n",
       "102339                     1         210.09  \n",
       "102434                     2         195.91  \n",
       "102500                     1         133.97  \n",
       "\n",
       "[772 rows x 12 columns]"
      ]
     },
     "execution_count": 40,
     "metadata": {},
     "output_type": "execute_result"
    }
   ],
   "source": [
    "ids=vendas.loc[vendas.price.isnull(),'order_id']\n",
    "paga[paga.order_id.isin(ids)]"
   ]
  },
  {
   "cell_type": "code",
   "execution_count": 41,
   "metadata": {},
   "outputs": [],
   "source": [
    "dife_nul=paga.loc[paga.order_id.isin(ids),'payment_value'].sum()"
   ]
  },
  {
   "cell_type": "code",
   "execution_count": 42,
   "metadata": {},
   "outputs": [
    {
     "data": {
      "text/plain": [
       "15818217.510000002"
      ]
     },
     "execution_count": 42,
     "metadata": {},
     "output_type": "execute_result"
    }
   ],
   "source": [
    "preço+frete+dife_nul"
   ]
  },
  {
   "cell_type": "code",
   "execution_count": 43,
   "metadata": {},
   "outputs": [],
   "source": [
    "vendas=vendas[vendas.price.notnull()]"
   ]
  },
  {
   "cell_type": "code",
   "execution_count": 44,
   "metadata": {},
   "outputs": [
    {
     "data": {
      "text/plain": [
       "order_id                            0\n",
       "customer_id                         0\n",
       "order_status                        0\n",
       "order_purchase_timestamp            0\n",
       "order_approved_at                  15\n",
       "order_delivered_carrier_date     1156\n",
       "order_delivered_customer_date    2402\n",
       "order_estimated_delivery_date       0\n",
       "order_item_id                       0\n",
       "product_id                          0\n",
       "seller_id                           0\n",
       "shipping_limit_date                 0\n",
       "price                               0\n",
       "freight_value                       0\n",
       "product_category_name            1598\n",
       "customer_unique_id                  0\n",
       "customer_city                       0\n",
       "customer_state                      0\n",
       "dia_compra                          0\n",
       "mes_compra                          0\n",
       "ano_compra                          0\n",
       "ano_mes                             0\n",
       "dtype: int64"
      ]
     },
     "execution_count": 44,
     "metadata": {},
     "output_type": "execute_result"
    }
   ],
   "source": [
    "vendas.isnull().sum()"
   ]
  },
  {
   "cell_type": "code",
   "execution_count": 45,
   "metadata": {},
   "outputs": [
    {
     "data": {
      "text/html": [
       "<div>\n",
       "<style scoped>\n",
       "    .dataframe tbody tr th:only-of-type {\n",
       "        vertical-align: middle;\n",
       "    }\n",
       "\n",
       "    .dataframe tbody tr th {\n",
       "        vertical-align: top;\n",
       "    }\n",
       "\n",
       "    .dataframe thead th {\n",
       "        text-align: right;\n",
       "    }\n",
       "</style>\n",
       "<table border=\"1\" class=\"dataframe\">\n",
       "  <thead>\n",
       "    <tr style=\"text-align: right;\">\n",
       "      <th></th>\n",
       "      <th>order_id</th>\n",
       "      <th>customer_id</th>\n",
       "      <th>order_status</th>\n",
       "      <th>order_purchase_timestamp</th>\n",
       "      <th>order_approved_at</th>\n",
       "      <th>order_delivered_carrier_date</th>\n",
       "      <th>order_delivered_customer_date</th>\n",
       "      <th>order_estimated_delivery_date</th>\n",
       "      <th>order_item_id</th>\n",
       "      <th>product_id</th>\n",
       "      <th>...</th>\n",
       "      <th>price</th>\n",
       "      <th>freight_value</th>\n",
       "      <th>product_category_name</th>\n",
       "      <th>customer_unique_id</th>\n",
       "      <th>customer_city</th>\n",
       "      <th>customer_state</th>\n",
       "      <th>dia_compra</th>\n",
       "      <th>mes_compra</th>\n",
       "      <th>ano_compra</th>\n",
       "      <th>ano_mes</th>\n",
       "    </tr>\n",
       "  </thead>\n",
       "  <tbody>\n",
       "    <tr>\n",
       "      <th>6</th>\n",
       "      <td>136cce7faa42fdb2cefd53fdc79a6098</td>\n",
       "      <td>ed0271e0b7da060a393796590e7b737a</td>\n",
       "      <td>invoiced</td>\n",
       "      <td>2017-04-11</td>\n",
       "      <td>2017-04-13</td>\n",
       "      <td>NaT</td>\n",
       "      <td>NaT</td>\n",
       "      <td>2017-05-09</td>\n",
       "      <td>1.0</td>\n",
       "      <td>a1804276d9941ac0733cfd409f5206eb</td>\n",
       "      <td>...</td>\n",
       "      <td>49.90</td>\n",
       "      <td>16.05</td>\n",
       "      <td>NaN</td>\n",
       "      <td>36edbb3fb164b1f16485364b6fb04c73</td>\n",
       "      <td>santa rosa</td>\n",
       "      <td>RS</td>\n",
       "      <td>11</td>\n",
       "      <td>4</td>\n",
       "      <td>2017</td>\n",
       "      <td>2017-04</td>\n",
       "    </tr>\n",
       "    <tr>\n",
       "      <th>46</th>\n",
       "      <td>ee64d42b8cf066f35eac1cf57de1aa85</td>\n",
       "      <td>caded193e8e47b8362864762a83db3c5</td>\n",
       "      <td>shipped</td>\n",
       "      <td>2018-06-04</td>\n",
       "      <td>2018-06-05</td>\n",
       "      <td>2018-06-05</td>\n",
       "      <td>NaT</td>\n",
       "      <td>2018-06-28</td>\n",
       "      <td>1.0</td>\n",
       "      <td>c50ca07e9e4db9ea5011f06802c0aea0</td>\n",
       "      <td>...</td>\n",
       "      <td>14.49</td>\n",
       "      <td>7.87</td>\n",
       "      <td>beleza_saude</td>\n",
       "      <td>08fb46d35bb3ab4037202c23592d1259</td>\n",
       "      <td>jundiai</td>\n",
       "      <td>SP</td>\n",
       "      <td>4</td>\n",
       "      <td>6</td>\n",
       "      <td>2018</td>\n",
       "      <td>2018-06</td>\n",
       "    </tr>\n",
       "    <tr>\n",
       "      <th>115</th>\n",
       "      <td>0760a852e4e9d89eb77bf631eaaf1c84</td>\n",
       "      <td>d2a79636084590b7465af8ab374a8cf5</td>\n",
       "      <td>invoiced</td>\n",
       "      <td>2018-08-03</td>\n",
       "      <td>2018-08-07</td>\n",
       "      <td>NaT</td>\n",
       "      <td>NaT</td>\n",
       "      <td>2018-08-21</td>\n",
       "      <td>1.0</td>\n",
       "      <td>1522589c64efd46731d3522568e5bc83</td>\n",
       "      <td>...</td>\n",
       "      <td>35.00</td>\n",
       "      <td>15.35</td>\n",
       "      <td>artigos_de_natal</td>\n",
       "      <td>c7f8d7b1fffc946d7069574f74c39f4e</td>\n",
       "      <td>santo amaro da imperatriz</td>\n",
       "      <td>SC</td>\n",
       "      <td>3</td>\n",
       "      <td>8</td>\n",
       "      <td>2018</td>\n",
       "      <td>2018-08</td>\n",
       "    </tr>\n",
       "    <tr>\n",
       "      <th>143</th>\n",
       "      <td>15bed8e2fec7fdbadb186b57c46c92f2</td>\n",
       "      <td>f3f0e613e0bdb9c7cee75504f0f90679</td>\n",
       "      <td>processing</td>\n",
       "      <td>2017-09-03</td>\n",
       "      <td>2017-09-03</td>\n",
       "      <td>NaT</td>\n",
       "      <td>NaT</td>\n",
       "      <td>2017-10-03</td>\n",
       "      <td>1.0</td>\n",
       "      <td>61d52f4882421048afd530db53d6f230</td>\n",
       "      <td>...</td>\n",
       "      <td>125.90</td>\n",
       "      <td>12.38</td>\n",
       "      <td>perfumaria</td>\n",
       "      <td>9f269af9c49244f6ba4a46985a3cfc2e</td>\n",
       "      <td>sao paulo</td>\n",
       "      <td>SP</td>\n",
       "      <td>3</td>\n",
       "      <td>9</td>\n",
       "      <td>2017</td>\n",
       "      <td>2017-09</td>\n",
       "    </tr>\n",
       "    <tr>\n",
       "      <th>180</th>\n",
       "      <td>6942b8da583c2f9957e990d028607019</td>\n",
       "      <td>52006a9383bf149a4fb24226b173106f</td>\n",
       "      <td>shipped</td>\n",
       "      <td>2018-01-10</td>\n",
       "      <td>2018-01-11</td>\n",
       "      <td>2018-01-11</td>\n",
       "      <td>NaT</td>\n",
       "      <td>2018-02-07</td>\n",
       "      <td>1.0</td>\n",
       "      <td>ee0c1cf2fbeae95205b4aa506f1469f0</td>\n",
       "      <td>...</td>\n",
       "      <td>53.99</td>\n",
       "      <td>15.13</td>\n",
       "      <td>perfumaria</td>\n",
       "      <td>528b011eb7fab3d59c336cc7248eed3a</td>\n",
       "      <td>paracatu</td>\n",
       "      <td>MG</td>\n",
       "      <td>10</td>\n",
       "      <td>1</td>\n",
       "      <td>2018</td>\n",
       "      <td>2018-01</td>\n",
       "    </tr>\n",
       "    <tr>\n",
       "      <th>...</th>\n",
       "      <td>...</td>\n",
       "      <td>...</td>\n",
       "      <td>...</td>\n",
       "      <td>...</td>\n",
       "      <td>...</td>\n",
       "      <td>...</td>\n",
       "      <td>...</td>\n",
       "      <td>...</td>\n",
       "      <td>...</td>\n",
       "      <td>...</td>\n",
       "      <td>...</td>\n",
       "      <td>...</td>\n",
       "      <td>...</td>\n",
       "      <td>...</td>\n",
       "      <td>...</td>\n",
       "      <td>...</td>\n",
       "      <td>...</td>\n",
       "      <td>...</td>\n",
       "      <td>...</td>\n",
       "      <td>...</td>\n",
       "      <td>...</td>\n",
       "    </tr>\n",
       "    <tr>\n",
       "      <th>111583</th>\n",
       "      <td>aea0db338150b526dde24f6fd953a5ed</td>\n",
       "      <td>379a02efdc6a56bd27f99b95fc2f6c06</td>\n",
       "      <td>processing</td>\n",
       "      <td>2017-12-26</td>\n",
       "      <td>2017-12-26</td>\n",
       "      <td>NaT</td>\n",
       "      <td>NaT</td>\n",
       "      <td>2018-01-26</td>\n",
       "      <td>1.0</td>\n",
       "      <td>aa428a8e4d587520f90d37a08030a812</td>\n",
       "      <td>...</td>\n",
       "      <td>96.90</td>\n",
       "      <td>16.44</td>\n",
       "      <td>brinquedos</td>\n",
       "      <td>43fb4e33ebe4ac765e99c7b57e5d6940</td>\n",
       "      <td>aquidauana</td>\n",
       "      <td>MS</td>\n",
       "      <td>26</td>\n",
       "      <td>12</td>\n",
       "      <td>2017</td>\n",
       "      <td>2017-12</td>\n",
       "    </tr>\n",
       "    <tr>\n",
       "      <th>111592</th>\n",
       "      <td>6560fb10610771449cb0463c5ba12199</td>\n",
       "      <td>0d07d0a588caf93cc66b7a8aff86d2fe</td>\n",
       "      <td>canceled</td>\n",
       "      <td>2017-10-01</td>\n",
       "      <td>2017-10-01</td>\n",
       "      <td>NaT</td>\n",
       "      <td>NaT</td>\n",
       "      <td>2017-10-27</td>\n",
       "      <td>1.0</td>\n",
       "      <td>dc2410804cf782c5d87dbcd201b74e9b</td>\n",
       "      <td>...</td>\n",
       "      <td>150.00</td>\n",
       "      <td>16.81</td>\n",
       "      <td>informatica_acessorios</td>\n",
       "      <td>0f75924cbbe60142068f4029d744b724</td>\n",
       "      <td>curitiba</td>\n",
       "      <td>PR</td>\n",
       "      <td>1</td>\n",
       "      <td>10</td>\n",
       "      <td>2017</td>\n",
       "      <td>2017-10</td>\n",
       "    </tr>\n",
       "    <tr>\n",
       "      <th>111593</th>\n",
       "      <td>6560fb10610771449cb0463c5ba12199</td>\n",
       "      <td>0d07d0a588caf93cc66b7a8aff86d2fe</td>\n",
       "      <td>canceled</td>\n",
       "      <td>2017-10-01</td>\n",
       "      <td>2017-10-01</td>\n",
       "      <td>NaT</td>\n",
       "      <td>NaT</td>\n",
       "      <td>2017-10-27</td>\n",
       "      <td>2.0</td>\n",
       "      <td>dc2410804cf782c5d87dbcd201b74e9b</td>\n",
       "      <td>...</td>\n",
       "      <td>150.00</td>\n",
       "      <td>16.81</td>\n",
       "      <td>informatica_acessorios</td>\n",
       "      <td>0f75924cbbe60142068f4029d744b724</td>\n",
       "      <td>curitiba</td>\n",
       "      <td>PR</td>\n",
       "      <td>1</td>\n",
       "      <td>10</td>\n",
       "      <td>2017</td>\n",
       "      <td>2017-10</td>\n",
       "    </tr>\n",
       "    <tr>\n",
       "      <th>111635</th>\n",
       "      <td>636cdd02667dc8d76d9296bf20a6890a</td>\n",
       "      <td>c162256b133c76f79181ce61d66545db</td>\n",
       "      <td>shipped</td>\n",
       "      <td>2018-02-17</td>\n",
       "      <td>2018-02-20</td>\n",
       "      <td>2018-02-20</td>\n",
       "      <td>NaT</td>\n",
       "      <td>2018-03-14</td>\n",
       "      <td>1.0</td>\n",
       "      <td>52c80cedd4e90108bf4fa6a206ef6b03</td>\n",
       "      <td>...</td>\n",
       "      <td>179.00</td>\n",
       "      <td>45.71</td>\n",
       "      <td>ferramentas_jardim</td>\n",
       "      <td>39552b92919b5aacffcd326b13af0397</td>\n",
       "      <td>taubate</td>\n",
       "      <td>SP</td>\n",
       "      <td>17</td>\n",
       "      <td>2</td>\n",
       "      <td>2018</td>\n",
       "      <td>2018-02</td>\n",
       "    </tr>\n",
       "    <tr>\n",
       "      <th>111787</th>\n",
       "      <td>e9e64a17afa9653aacf2616d94c005b8</td>\n",
       "      <td>b4cd0522e632e481f8eaf766a2646e86</td>\n",
       "      <td>processing</td>\n",
       "      <td>2018-01-05</td>\n",
       "      <td>2018-01-09</td>\n",
       "      <td>NaT</td>\n",
       "      <td>NaT</td>\n",
       "      <td>2018-02-06</td>\n",
       "      <td>1.0</td>\n",
       "      <td>0a57f7d2c983bcf8188589a5fea4a8da</td>\n",
       "      <td>...</td>\n",
       "      <td>129.90</td>\n",
       "      <td>14.66</td>\n",
       "      <td>relogios_presentes</td>\n",
       "      <td>965191786b70912f793e4a777fd623cd</td>\n",
       "      <td>campinas</td>\n",
       "      <td>SP</td>\n",
       "      <td>5</td>\n",
       "      <td>1</td>\n",
       "      <td>2018</td>\n",
       "      <td>2018-01</td>\n",
       "    </tr>\n",
       "  </tbody>\n",
       "</table>\n",
       "<p>2402 rows × 22 columns</p>\n",
       "</div>"
      ],
      "text/plain": [
       "                                order_id                       customer_id  \\\n",
       "6       136cce7faa42fdb2cefd53fdc79a6098  ed0271e0b7da060a393796590e7b737a   \n",
       "46      ee64d42b8cf066f35eac1cf57de1aa85  caded193e8e47b8362864762a83db3c5   \n",
       "115     0760a852e4e9d89eb77bf631eaaf1c84  d2a79636084590b7465af8ab374a8cf5   \n",
       "143     15bed8e2fec7fdbadb186b57c46c92f2  f3f0e613e0bdb9c7cee75504f0f90679   \n",
       "180     6942b8da583c2f9957e990d028607019  52006a9383bf149a4fb24226b173106f   \n",
       "...                                  ...                               ...   \n",
       "111583  aea0db338150b526dde24f6fd953a5ed  379a02efdc6a56bd27f99b95fc2f6c06   \n",
       "111592  6560fb10610771449cb0463c5ba12199  0d07d0a588caf93cc66b7a8aff86d2fe   \n",
       "111593  6560fb10610771449cb0463c5ba12199  0d07d0a588caf93cc66b7a8aff86d2fe   \n",
       "111635  636cdd02667dc8d76d9296bf20a6890a  c162256b133c76f79181ce61d66545db   \n",
       "111787  e9e64a17afa9653aacf2616d94c005b8  b4cd0522e632e481f8eaf766a2646e86   \n",
       "\n",
       "       order_status order_purchase_timestamp order_approved_at  \\\n",
       "6          invoiced               2017-04-11        2017-04-13   \n",
       "46          shipped               2018-06-04        2018-06-05   \n",
       "115        invoiced               2018-08-03        2018-08-07   \n",
       "143      processing               2017-09-03        2017-09-03   \n",
       "180         shipped               2018-01-10        2018-01-11   \n",
       "...             ...                      ...               ...   \n",
       "111583   processing               2017-12-26        2017-12-26   \n",
       "111592     canceled               2017-10-01        2017-10-01   \n",
       "111593     canceled               2017-10-01        2017-10-01   \n",
       "111635      shipped               2018-02-17        2018-02-20   \n",
       "111787   processing               2018-01-05        2018-01-09   \n",
       "\n",
       "       order_delivered_carrier_date order_delivered_customer_date  \\\n",
       "6                               NaT                           NaT   \n",
       "46                       2018-06-05                           NaT   \n",
       "115                             NaT                           NaT   \n",
       "143                             NaT                           NaT   \n",
       "180                      2018-01-11                           NaT   \n",
       "...                             ...                           ...   \n",
       "111583                          NaT                           NaT   \n",
       "111592                          NaT                           NaT   \n",
       "111593                          NaT                           NaT   \n",
       "111635                   2018-02-20                           NaT   \n",
       "111787                          NaT                           NaT   \n",
       "\n",
       "       order_estimated_delivery_date  order_item_id  \\\n",
       "6                         2017-05-09            1.0   \n",
       "46                        2018-06-28            1.0   \n",
       "115                       2018-08-21            1.0   \n",
       "143                       2017-10-03            1.0   \n",
       "180                       2018-02-07            1.0   \n",
       "...                              ...            ...   \n",
       "111583                    2018-01-26            1.0   \n",
       "111592                    2017-10-27            1.0   \n",
       "111593                    2017-10-27            2.0   \n",
       "111635                    2018-03-14            1.0   \n",
       "111787                    2018-02-06            1.0   \n",
       "\n",
       "                              product_id  ...   price freight_value  \\\n",
       "6       a1804276d9941ac0733cfd409f5206eb  ...   49.90         16.05   \n",
       "46      c50ca07e9e4db9ea5011f06802c0aea0  ...   14.49          7.87   \n",
       "115     1522589c64efd46731d3522568e5bc83  ...   35.00         15.35   \n",
       "143     61d52f4882421048afd530db53d6f230  ...  125.90         12.38   \n",
       "180     ee0c1cf2fbeae95205b4aa506f1469f0  ...   53.99         15.13   \n",
       "...                                  ...  ...     ...           ...   \n",
       "111583  aa428a8e4d587520f90d37a08030a812  ...   96.90         16.44   \n",
       "111592  dc2410804cf782c5d87dbcd201b74e9b  ...  150.00         16.81   \n",
       "111593  dc2410804cf782c5d87dbcd201b74e9b  ...  150.00         16.81   \n",
       "111635  52c80cedd4e90108bf4fa6a206ef6b03  ...  179.00         45.71   \n",
       "111787  0a57f7d2c983bcf8188589a5fea4a8da  ...  129.90         14.66   \n",
       "\n",
       "         product_category_name                customer_unique_id  \\\n",
       "6                          NaN  36edbb3fb164b1f16485364b6fb04c73   \n",
       "46                beleza_saude  08fb46d35bb3ab4037202c23592d1259   \n",
       "115           artigos_de_natal  c7f8d7b1fffc946d7069574f74c39f4e   \n",
       "143                 perfumaria  9f269af9c49244f6ba4a46985a3cfc2e   \n",
       "180                 perfumaria  528b011eb7fab3d59c336cc7248eed3a   \n",
       "...                        ...                               ...   \n",
       "111583              brinquedos  43fb4e33ebe4ac765e99c7b57e5d6940   \n",
       "111592  informatica_acessorios  0f75924cbbe60142068f4029d744b724   \n",
       "111593  informatica_acessorios  0f75924cbbe60142068f4029d744b724   \n",
       "111635      ferramentas_jardim  39552b92919b5aacffcd326b13af0397   \n",
       "111787      relogios_presentes  965191786b70912f793e4a777fd623cd   \n",
       "\n",
       "                    customer_city customer_state dia_compra mes_compra  \\\n",
       "6                      santa rosa             RS         11          4   \n",
       "46                        jundiai             SP          4          6   \n",
       "115     santo amaro da imperatriz             SC          3          8   \n",
       "143                     sao paulo             SP          3          9   \n",
       "180                      paracatu             MG         10          1   \n",
       "...                           ...            ...        ...        ...   \n",
       "111583                 aquidauana             MS         26         12   \n",
       "111592                   curitiba             PR          1         10   \n",
       "111593                   curitiba             PR          1         10   \n",
       "111635                    taubate             SP         17          2   \n",
       "111787                   campinas             SP          5          1   \n",
       "\n",
       "        ano_compra  ano_mes  \n",
       "6             2017  2017-04  \n",
       "46            2018  2018-06  \n",
       "115           2018  2018-08  \n",
       "143           2017  2017-09  \n",
       "180           2018  2018-01  \n",
       "...            ...      ...  \n",
       "111583        2017  2017-12  \n",
       "111592        2017  2017-10  \n",
       "111593        2017  2017-10  \n",
       "111635        2018  2018-02  \n",
       "111787        2018  2018-01  \n",
       "\n",
       "[2402 rows x 22 columns]"
      ]
     },
     "execution_count": 45,
     "metadata": {},
     "output_type": "execute_result"
    }
   ],
   "source": [
    "vendas[vendas.order_delivered_customer_date.isnull()]"
   ]
  },
  {
   "cell_type": "code",
   "execution_count": 46,
   "metadata": {},
   "outputs": [
    {
     "data": {
      "text/plain": [
       "shipped       1171\n",
       "canceled       525\n",
       "processing     355\n",
       "invoiced       340\n",
       "delivered        8\n",
       "approved         3\n",
       "Name: order_status, dtype: int64"
      ]
     },
     "execution_count": 46,
     "metadata": {},
     "output_type": "execute_result"
    }
   ],
   "source": [
    "vendas.loc[vendas.order_delivered_customer_date.isnull(),'order_status'].value_counts()"
   ]
  },
  {
   "cell_type": "code",
   "execution_count": 47,
   "metadata": {},
   "outputs": [],
   "source": [
    "vendas=vendas[vendas.order_status !='canceled']"
   ]
  },
  {
   "cell_type": "code",
   "execution_count": 48,
   "metadata": {},
   "outputs": [
    {
     "data": {
      "text/plain": [
       "order_id                            0\n",
       "customer_id                         0\n",
       "order_status                        0\n",
       "order_purchase_timestamp            0\n",
       "order_approved_at                  15\n",
       "order_delivered_carrier_date      700\n",
       "order_delivered_customer_date    1877\n",
       "order_estimated_delivery_date       0\n",
       "order_item_id                       0\n",
       "product_id                          0\n",
       "seller_id                           0\n",
       "shipping_limit_date                 0\n",
       "price                               0\n",
       "freight_value                       0\n",
       "product_category_name            1584\n",
       "customer_unique_id                  0\n",
       "customer_city                       0\n",
       "customer_state                      0\n",
       "dia_compra                          0\n",
       "mes_compra                          0\n",
       "ano_compra                          0\n",
       "ano_mes                             0\n",
       "dtype: int64"
      ]
     },
     "execution_count": 48,
     "metadata": {},
     "output_type": "execute_result"
    }
   ],
   "source": [
    "vendas.isnull().sum()"
   ]
  },
  {
   "cell_type": "code",
   "execution_count": 49,
   "metadata": {},
   "outputs": [
    {
     "data": {
      "text/html": [
       "<div>\n",
       "<style scoped>\n",
       "    .dataframe tbody tr th:only-of-type {\n",
       "        vertical-align: middle;\n",
       "    }\n",
       "\n",
       "    .dataframe tbody tr th {\n",
       "        vertical-align: top;\n",
       "    }\n",
       "\n",
       "    .dataframe thead th {\n",
       "        text-align: right;\n",
       "    }\n",
       "</style>\n",
       "<table border=\"1\" class=\"dataframe\">\n",
       "  <thead>\n",
       "    <tr style=\"text-align: right;\">\n",
       "      <th></th>\n",
       "      <th>order_id</th>\n",
       "      <th>customer_id</th>\n",
       "      <th>order_status</th>\n",
       "      <th>order_purchase_timestamp</th>\n",
       "      <th>order_approved_at</th>\n",
       "      <th>order_delivered_carrier_date</th>\n",
       "      <th>order_delivered_customer_date</th>\n",
       "      <th>order_estimated_delivery_date</th>\n",
       "      <th>order_item_id</th>\n",
       "      <th>product_id</th>\n",
       "      <th>...</th>\n",
       "      <th>price</th>\n",
       "      <th>freight_value</th>\n",
       "      <th>product_category_name</th>\n",
       "      <th>customer_unique_id</th>\n",
       "      <th>customer_city</th>\n",
       "      <th>customer_state</th>\n",
       "      <th>dia_compra</th>\n",
       "      <th>mes_compra</th>\n",
       "      <th>ano_compra</th>\n",
       "      <th>ano_mes</th>\n",
       "    </tr>\n",
       "  </thead>\n",
       "  <tbody>\n",
       "    <tr>\n",
       "      <th>6</th>\n",
       "      <td>136cce7faa42fdb2cefd53fdc79a6098</td>\n",
       "      <td>ed0271e0b7da060a393796590e7b737a</td>\n",
       "      <td>invoiced</td>\n",
       "      <td>2017-04-11</td>\n",
       "      <td>2017-04-13</td>\n",
       "      <td>NaT</td>\n",
       "      <td>NaT</td>\n",
       "      <td>2017-05-09</td>\n",
       "      <td>1.0</td>\n",
       "      <td>a1804276d9941ac0733cfd409f5206eb</td>\n",
       "      <td>...</td>\n",
       "      <td>49.90</td>\n",
       "      <td>16.05</td>\n",
       "      <td>NaN</td>\n",
       "      <td>36edbb3fb164b1f16485364b6fb04c73</td>\n",
       "      <td>santa rosa</td>\n",
       "      <td>RS</td>\n",
       "      <td>11</td>\n",
       "      <td>4</td>\n",
       "      <td>2017</td>\n",
       "      <td>2017-04</td>\n",
       "    </tr>\n",
       "    <tr>\n",
       "      <th>119</th>\n",
       "      <td>bfe42c22ecbf90bc9f35cf591270b6a7</td>\n",
       "      <td>803ac05904124294f8767894d6da532b</td>\n",
       "      <td>delivered</td>\n",
       "      <td>2018-01-27</td>\n",
       "      <td>2018-01-27</td>\n",
       "      <td>2018-02-03</td>\n",
       "      <td>2018-02-09</td>\n",
       "      <td>2018-02-26</td>\n",
       "      <td>1.0</td>\n",
       "      <td>71225f49be70df4297892f6a5fa62171</td>\n",
       "      <td>...</td>\n",
       "      <td>27.30</td>\n",
       "      <td>15.10</td>\n",
       "      <td>NaN</td>\n",
       "      <td>34c58672601f2c6d29db7efd1f6bf958</td>\n",
       "      <td>bonfinopolis de minas</td>\n",
       "      <td>MG</td>\n",
       "      <td>27</td>\n",
       "      <td>1</td>\n",
       "      <td>2018</td>\n",
       "      <td>2018-01</td>\n",
       "    </tr>\n",
       "    <tr>\n",
       "      <th>207</th>\n",
       "      <td>58ac1947c1a9067b9f416cba6d844a3f</td>\n",
       "      <td>ee8e1d37f563ecc11cc4dcb4dfd794c2</td>\n",
       "      <td>delivered</td>\n",
       "      <td>2017-09-13</td>\n",
       "      <td>2017-09-13</td>\n",
       "      <td>2017-09-14</td>\n",
       "      <td>2017-09-21</td>\n",
       "      <td>2017-09-25</td>\n",
       "      <td>1.0</td>\n",
       "      <td>9820e04e332fc450d6fd975befc1bc28</td>\n",
       "      <td>...</td>\n",
       "      <td>110.00</td>\n",
       "      <td>14.16</td>\n",
       "      <td>NaN</td>\n",
       "      <td>5cbf29b2dcf212a6a5d864b887238c72</td>\n",
       "      <td>sao paulo</td>\n",
       "      <td>SP</td>\n",
       "      <td>13</td>\n",
       "      <td>9</td>\n",
       "      <td>2017</td>\n",
       "      <td>2017-09</td>\n",
       "    </tr>\n",
       "    <tr>\n",
       "      <th>259</th>\n",
       "      <td>e22b71f6e4a481445ec4527cb4c405f7</td>\n",
       "      <td>1faf89c8f142db3fca6cf314c51a37b6</td>\n",
       "      <td>delivered</td>\n",
       "      <td>2017-04-22</td>\n",
       "      <td>2017-04-22</td>\n",
       "      <td>2017-04-24</td>\n",
       "      <td>2017-05-02</td>\n",
       "      <td>2017-05-11</td>\n",
       "      <td>1.0</td>\n",
       "      <td>3bc5164bc7f4be77002d6651da65c98c</td>\n",
       "      <td>...</td>\n",
       "      <td>22.50</td>\n",
       "      <td>11.74</td>\n",
       "      <td>NaN</td>\n",
       "      <td>1268b060098ed3f22c2e7c34cc72a1a8</td>\n",
       "      <td>itapagipe</td>\n",
       "      <td>MG</td>\n",
       "      <td>22</td>\n",
       "      <td>4</td>\n",
       "      <td>2017</td>\n",
       "      <td>2017-04</td>\n",
       "    </tr>\n",
       "    <tr>\n",
       "      <th>297</th>\n",
       "      <td>a094215e786240fcfefb83d18036a1cd</td>\n",
       "      <td>86acfb656743da0c113d176832c9d535</td>\n",
       "      <td>delivered</td>\n",
       "      <td>2018-02-08</td>\n",
       "      <td>2018-02-08</td>\n",
       "      <td>2018-02-09</td>\n",
       "      <td>2018-02-19</td>\n",
       "      <td>2018-02-22</td>\n",
       "      <td>1.0</td>\n",
       "      <td>5a848e4ab52fd5445cdc07aab1c40e48</td>\n",
       "      <td>...</td>\n",
       "      <td>122.99</td>\n",
       "      <td>9.06</td>\n",
       "      <td>NaN</td>\n",
       "      <td>f5cb81f98962f7504bef1e75579b6dff</td>\n",
       "      <td>americana</td>\n",
       "      <td>SP</td>\n",
       "      <td>8</td>\n",
       "      <td>2</td>\n",
       "      <td>2018</td>\n",
       "      <td>2018-02</td>\n",
       "    </tr>\n",
       "    <tr>\n",
       "      <th>...</th>\n",
       "      <td>...</td>\n",
       "      <td>...</td>\n",
       "      <td>...</td>\n",
       "      <td>...</td>\n",
       "      <td>...</td>\n",
       "      <td>...</td>\n",
       "      <td>...</td>\n",
       "      <td>...</td>\n",
       "      <td>...</td>\n",
       "      <td>...</td>\n",
       "      <td>...</td>\n",
       "      <td>...</td>\n",
       "      <td>...</td>\n",
       "      <td>...</td>\n",
       "      <td>...</td>\n",
       "      <td>...</td>\n",
       "      <td>...</td>\n",
       "      <td>...</td>\n",
       "      <td>...</td>\n",
       "      <td>...</td>\n",
       "      <td>...</td>\n",
       "    </tr>\n",
       "    <tr>\n",
       "      <th>111503</th>\n",
       "      <td>1a10e938a1c7d8e5eecc3380f71ca76b</td>\n",
       "      <td>8a81607347c25d881d995d94de6ad824</td>\n",
       "      <td>delivered</td>\n",
       "      <td>2018-07-25</td>\n",
       "      <td>2018-07-26</td>\n",
       "      <td>2018-07-27</td>\n",
       "      <td>2018-08-01</td>\n",
       "      <td>2018-08-10</td>\n",
       "      <td>1.0</td>\n",
       "      <td>8d39a63db6a98e40571f486e0c711cf7</td>\n",
       "      <td>...</td>\n",
       "      <td>127.20</td>\n",
       "      <td>18.99</td>\n",
       "      <td>NaN</td>\n",
       "      <td>75fe53e03a8a9797acb680ce8710da8b</td>\n",
       "      <td>volta redonda</td>\n",
       "      <td>RJ</td>\n",
       "      <td>25</td>\n",
       "      <td>7</td>\n",
       "      <td>2018</td>\n",
       "      <td>2018-07</td>\n",
       "    </tr>\n",
       "    <tr>\n",
       "      <th>111673</th>\n",
       "      <td>e33865519137f5737444109ae8438633</td>\n",
       "      <td>64b086bdcc54458af3ea3bd838db54a5</td>\n",
       "      <td>delivered</td>\n",
       "      <td>2018-05-28</td>\n",
       "      <td>2018-05-29</td>\n",
       "      <td>2018-05-30</td>\n",
       "      <td>2018-06-01</td>\n",
       "      <td>2018-06-20</td>\n",
       "      <td>1.0</td>\n",
       "      <td>e9cbc0910ab050cbd92fbeb051c270ea</td>\n",
       "      <td>...</td>\n",
       "      <td>33.85</td>\n",
       "      <td>8.29</td>\n",
       "      <td>NaN</td>\n",
       "      <td>82ffeb20040f58e6c008e4402fa6f992</td>\n",
       "      <td>sao paulo</td>\n",
       "      <td>SP</td>\n",
       "      <td>28</td>\n",
       "      <td>5</td>\n",
       "      <td>2018</td>\n",
       "      <td>2018-05</td>\n",
       "    </tr>\n",
       "    <tr>\n",
       "      <th>111680</th>\n",
       "      <td>f0dd9af88d8ef5a8e4670fbbedaf19c4</td>\n",
       "      <td>30ddb50bd22ee927ebe308ea3da60735</td>\n",
       "      <td>delivered</td>\n",
       "      <td>2017-09-02</td>\n",
       "      <td>2017-09-05</td>\n",
       "      <td>2017-09-14</td>\n",
       "      <td>2017-09-15</td>\n",
       "      <td>2017-09-19</td>\n",
       "      <td>1.0</td>\n",
       "      <td>0c877471e35049402bca235e06cb8063</td>\n",
       "      <td>...</td>\n",
       "      <td>84.90</td>\n",
       "      <td>15.35</td>\n",
       "      <td>NaN</td>\n",
       "      <td>1d627d8a6e1e33ea8eeeb7a17d998660</td>\n",
       "      <td>santos</td>\n",
       "      <td>SP</td>\n",
       "      <td>2</td>\n",
       "      <td>9</td>\n",
       "      <td>2017</td>\n",
       "      <td>2017-09</td>\n",
       "    </tr>\n",
       "    <tr>\n",
       "      <th>111686</th>\n",
       "      <td>272874573723eec18f23c0471927d778</td>\n",
       "      <td>48e080c8001e92ebea2b64e474f91a60</td>\n",
       "      <td>delivered</td>\n",
       "      <td>2017-12-20</td>\n",
       "      <td>2017-12-20</td>\n",
       "      <td>2017-12-21</td>\n",
       "      <td>2017-12-26</td>\n",
       "      <td>2018-01-09</td>\n",
       "      <td>1.0</td>\n",
       "      <td>5a848e4ab52fd5445cdc07aab1c40e48</td>\n",
       "      <td>...</td>\n",
       "      <td>122.99</td>\n",
       "      <td>9.06</td>\n",
       "      <td>NaN</td>\n",
       "      <td>da59579685bd771fdd4f90fb50d28cd3</td>\n",
       "      <td>guarulhos</td>\n",
       "      <td>SP</td>\n",
       "      <td>20</td>\n",
       "      <td>12</td>\n",
       "      <td>2017</td>\n",
       "      <td>2017-12</td>\n",
       "    </tr>\n",
       "    <tr>\n",
       "      <th>111703</th>\n",
       "      <td>dff2b9b8d7cfc595836945e1443789c3</td>\n",
       "      <td>2436fb2666a65fbacae82532e797cabf</td>\n",
       "      <td>delivered</td>\n",
       "      <td>2018-07-16</td>\n",
       "      <td>2018-07-17</td>\n",
       "      <td>2018-07-17</td>\n",
       "      <td>2018-07-20</td>\n",
       "      <td>2018-08-07</td>\n",
       "      <td>1.0</td>\n",
       "      <td>bfa0e398bef2d28bb421d42997982cab</td>\n",
       "      <td>...</td>\n",
       "      <td>219.99</td>\n",
       "      <td>15.13</td>\n",
       "      <td>NaN</td>\n",
       "      <td>9b352d0736779ff0e21fcbd59a7141b3</td>\n",
       "      <td>rio de janeiro</td>\n",
       "      <td>RJ</td>\n",
       "      <td>16</td>\n",
       "      <td>7</td>\n",
       "      <td>2018</td>\n",
       "      <td>2018-07</td>\n",
       "    </tr>\n",
       "  </tbody>\n",
       "</table>\n",
       "<p>1584 rows × 22 columns</p>\n",
       "</div>"
      ],
      "text/plain": [
       "                                order_id                       customer_id  \\\n",
       "6       136cce7faa42fdb2cefd53fdc79a6098  ed0271e0b7da060a393796590e7b737a   \n",
       "119     bfe42c22ecbf90bc9f35cf591270b6a7  803ac05904124294f8767894d6da532b   \n",
       "207     58ac1947c1a9067b9f416cba6d844a3f  ee8e1d37f563ecc11cc4dcb4dfd794c2   \n",
       "259     e22b71f6e4a481445ec4527cb4c405f7  1faf89c8f142db3fca6cf314c51a37b6   \n",
       "297     a094215e786240fcfefb83d18036a1cd  86acfb656743da0c113d176832c9d535   \n",
       "...                                  ...                               ...   \n",
       "111503  1a10e938a1c7d8e5eecc3380f71ca76b  8a81607347c25d881d995d94de6ad824   \n",
       "111673  e33865519137f5737444109ae8438633  64b086bdcc54458af3ea3bd838db54a5   \n",
       "111680  f0dd9af88d8ef5a8e4670fbbedaf19c4  30ddb50bd22ee927ebe308ea3da60735   \n",
       "111686  272874573723eec18f23c0471927d778  48e080c8001e92ebea2b64e474f91a60   \n",
       "111703  dff2b9b8d7cfc595836945e1443789c3  2436fb2666a65fbacae82532e797cabf   \n",
       "\n",
       "       order_status order_purchase_timestamp order_approved_at  \\\n",
       "6          invoiced               2017-04-11        2017-04-13   \n",
       "119       delivered               2018-01-27        2018-01-27   \n",
       "207       delivered               2017-09-13        2017-09-13   \n",
       "259       delivered               2017-04-22        2017-04-22   \n",
       "297       delivered               2018-02-08        2018-02-08   \n",
       "...             ...                      ...               ...   \n",
       "111503    delivered               2018-07-25        2018-07-26   \n",
       "111673    delivered               2018-05-28        2018-05-29   \n",
       "111680    delivered               2017-09-02        2017-09-05   \n",
       "111686    delivered               2017-12-20        2017-12-20   \n",
       "111703    delivered               2018-07-16        2018-07-17   \n",
       "\n",
       "       order_delivered_carrier_date order_delivered_customer_date  \\\n",
       "6                               NaT                           NaT   \n",
       "119                      2018-02-03                    2018-02-09   \n",
       "207                      2017-09-14                    2017-09-21   \n",
       "259                      2017-04-24                    2017-05-02   \n",
       "297                      2018-02-09                    2018-02-19   \n",
       "...                             ...                           ...   \n",
       "111503                   2018-07-27                    2018-08-01   \n",
       "111673                   2018-05-30                    2018-06-01   \n",
       "111680                   2017-09-14                    2017-09-15   \n",
       "111686                   2017-12-21                    2017-12-26   \n",
       "111703                   2018-07-17                    2018-07-20   \n",
       "\n",
       "       order_estimated_delivery_date  order_item_id  \\\n",
       "6                         2017-05-09            1.0   \n",
       "119                       2018-02-26            1.0   \n",
       "207                       2017-09-25            1.0   \n",
       "259                       2017-05-11            1.0   \n",
       "297                       2018-02-22            1.0   \n",
       "...                              ...            ...   \n",
       "111503                    2018-08-10            1.0   \n",
       "111673                    2018-06-20            1.0   \n",
       "111680                    2017-09-19            1.0   \n",
       "111686                    2018-01-09            1.0   \n",
       "111703                    2018-08-07            1.0   \n",
       "\n",
       "                              product_id  ...   price freight_value  \\\n",
       "6       a1804276d9941ac0733cfd409f5206eb  ...   49.90         16.05   \n",
       "119     71225f49be70df4297892f6a5fa62171  ...   27.30         15.10   \n",
       "207     9820e04e332fc450d6fd975befc1bc28  ...  110.00         14.16   \n",
       "259     3bc5164bc7f4be77002d6651da65c98c  ...   22.50         11.74   \n",
       "297     5a848e4ab52fd5445cdc07aab1c40e48  ...  122.99          9.06   \n",
       "...                                  ...  ...     ...           ...   \n",
       "111503  8d39a63db6a98e40571f486e0c711cf7  ...  127.20         18.99   \n",
       "111673  e9cbc0910ab050cbd92fbeb051c270ea  ...   33.85          8.29   \n",
       "111680  0c877471e35049402bca235e06cb8063  ...   84.90         15.35   \n",
       "111686  5a848e4ab52fd5445cdc07aab1c40e48  ...  122.99          9.06   \n",
       "111703  bfa0e398bef2d28bb421d42997982cab  ...  219.99         15.13   \n",
       "\n",
       "        product_category_name                customer_unique_id  \\\n",
       "6                         NaN  36edbb3fb164b1f16485364b6fb04c73   \n",
       "119                       NaN  34c58672601f2c6d29db7efd1f6bf958   \n",
       "207                       NaN  5cbf29b2dcf212a6a5d864b887238c72   \n",
       "259                       NaN  1268b060098ed3f22c2e7c34cc72a1a8   \n",
       "297                       NaN  f5cb81f98962f7504bef1e75579b6dff   \n",
       "...                       ...                               ...   \n",
       "111503                    NaN  75fe53e03a8a9797acb680ce8710da8b   \n",
       "111673                    NaN  82ffeb20040f58e6c008e4402fa6f992   \n",
       "111680                    NaN  1d627d8a6e1e33ea8eeeb7a17d998660   \n",
       "111686                    NaN  da59579685bd771fdd4f90fb50d28cd3   \n",
       "111703                    NaN  9b352d0736779ff0e21fcbd59a7141b3   \n",
       "\n",
       "                customer_city customer_state dia_compra mes_compra  \\\n",
       "6                  santa rosa             RS         11          4   \n",
       "119     bonfinopolis de minas             MG         27          1   \n",
       "207                 sao paulo             SP         13          9   \n",
       "259                 itapagipe             MG         22          4   \n",
       "297                 americana             SP          8          2   \n",
       "...                       ...            ...        ...        ...   \n",
       "111503          volta redonda             RJ         25          7   \n",
       "111673              sao paulo             SP         28          5   \n",
       "111680                 santos             SP          2          9   \n",
       "111686              guarulhos             SP         20         12   \n",
       "111703         rio de janeiro             RJ         16          7   \n",
       "\n",
       "        ano_compra  ano_mes  \n",
       "6             2017  2017-04  \n",
       "119           2018  2018-01  \n",
       "207           2017  2017-09  \n",
       "259           2017  2017-04  \n",
       "297           2018  2018-02  \n",
       "...            ...      ...  \n",
       "111503        2018  2018-07  \n",
       "111673        2018  2018-05  \n",
       "111680        2017  2017-09  \n",
       "111686        2017  2017-12  \n",
       "111703        2018  2018-07  \n",
       "\n",
       "[1584 rows x 22 columns]"
      ]
     },
     "execution_count": 49,
     "metadata": {},
     "output_type": "execute_result"
    }
   ],
   "source": [
    "vendas[vendas.product_category_name.isnull()]"
   ]
  },
  {
   "cell_type": "code",
   "execution_count": 50,
   "metadata": {},
   "outputs": [],
   "source": [
    "vendas.loc[vendas.product_category_name.isnull(),'product_category_name']='outros'"
   ]
  },
  {
   "cell_type": "code",
   "execution_count": 51,
   "metadata": {},
   "outputs": [
    {
     "data": {
      "text/plain": [
       "order_id                            0\n",
       "customer_id                         0\n",
       "order_status                        0\n",
       "order_purchase_timestamp            0\n",
       "order_approved_at                  15\n",
       "order_delivered_carrier_date      700\n",
       "order_delivered_customer_date    1877\n",
       "order_estimated_delivery_date       0\n",
       "order_item_id                       0\n",
       "product_id                          0\n",
       "seller_id                           0\n",
       "shipping_limit_date                 0\n",
       "price                               0\n",
       "freight_value                       0\n",
       "product_category_name               0\n",
       "customer_unique_id                  0\n",
       "customer_city                       0\n",
       "customer_state                      0\n",
       "dia_compra                          0\n",
       "mes_compra                          0\n",
       "ano_compra                          0\n",
       "ano_mes                             0\n",
       "dtype: int64"
      ]
     },
     "execution_count": 51,
     "metadata": {},
     "output_type": "execute_result"
    }
   ],
   "source": [
    "vendas.isnull().sum()"
   ]
  },
  {
   "cell_type": "code",
   "execution_count": 52,
   "metadata": {},
   "outputs": [
    {
     "data": {
      "text/plain": [
       "<AxesSubplot:xlabel='order_purchase_timestamp'>"
      ]
     },
     "execution_count": 52,
     "metadata": {},
     "output_type": "execute_result"
    },
    {
     "data": {
      "image/png": "[encoded data removed]",
      "text/plain": [
       "<Figure size 640x480 with 1 Axes>"
      ]
     },
     "metadata": {},
     "output_type": "display_data"
    }
   ],
   "source": [
    "vendas.groupby('order_purchase_timestamp')['price'].sum().plot()"
   ]
  },
  {
   "cell_type": "code",
   "execution_count": 53,
   "metadata": {},
   "outputs": [],
   "source": [
    "import datetime as dt"
   ]
  },
  {
   "cell_type": "code",
   "execution_count": 54,
   "metadata": {},
   "outputs": [
    {
     "data": {
      "text/plain": [
       "<AxesSubplot:xlabel='order_purchase_timestamp'>"
      ]
     },
     "execution_count": 54,
     "metadata": {},
     "output_type": "execute_result"
    },
    {
     "data": {
      "image/png": "[encoded data removed]",
      "text/plain": [
       "<Figure size 640x480 with 1 Axes>"
      ]
     },
     "metadata": {},
     "output_type": "display_data"
    }
   ],
   "source": [
    "vendas[(vendas.order_purchase_timestamp >= dt.datetime(2017,11,18)) & (vendas.order_purchase_timestamp <= dt.datetime(2017,11,27))].groupby('order_purchase_timestamp')['price'].sum().plot()"
   ]
  },
  {
   "cell_type": "code",
   "execution_count": 55,
   "metadata": {},
   "outputs": [],
   "source": [
    "vendas = vendas[vendas.order_purchase_timestamp != dt.datetime(2017,11,24)]"
   ]
  },
  {
   "cell_type": "code",
   "execution_count": 84,
   "metadata": {},
   "outputs": [
    {
     "data": {
      "text/plain": [
       "<AxesSubplot:>"
      ]
     },
     "execution_count": 84,
     "metadata": {},
     "output_type": "execute_result"
    },
    {
     "data": {
      "image/png": "[encoded data removed]",
      "text/plain": [
       "<Figure size 640x480 with 1 Axes>"
      ]
     },
     "metadata": {},
     "output_type": "display_data"
    }
   ],
   "source": [
    "vendas.groupby('order_purchase_timestamp')['price'].sum().plot.box()"
   ]
  },
  {
   "cell_type": "code",
   "execution_count": 57,
   "metadata": {},
   "outputs": [
    {
     "data": {
      "text/plain": [
       "<AxesSubplot:xlabel='order_purchase_timestamp'>"
      ]
     },
     "execution_count": 57,
     "metadata": {},
     "output_type": "execute_result"
    },
    {
     "data": {
      "image/png": "[encoded data removed]",
      "text/plain": [
       "<Figure size 640x480 with 1 Axes>"
      ]
     },
     "metadata": {},
     "output_type": "display_data"
    }
   ],
   "source": [
    "vendas[(vendas.order_purchase_timestamp >= dt.datetime(2017,11,18)) & (vendas.order_purchase_timestamp <= dt.datetime(2017,11,27))].groupby('order_purchase_timestamp')['price'].sum().plot()"
   ]
  },
  {
   "cell_type": "code",
   "execution_count": 58,
   "metadata": {},
   "outputs": [
    {
     "data": {
      "text/plain": [
       "<AxesSubplot:xlabel='order_purchase_timestamp'>"
      ]
     },
     "execution_count": 58,
     "metadata": {},
     "output_type": "execute_result"
    },
    {
     "data": {
      "image/png": "[encoded data removed]",
      "text/plain": [
       "<Figure size 640x480 with 1 Axes>"
      ]
     },
     "metadata": {},
     "output_type": "display_data"
    }
   ],
   "source": [
    "vendas.groupby('order_purchase_timestamp')['price'].sum().plot()"
   ]
  },
  {
   "cell_type": "code",
   "execution_count": 59,
   "metadata": {},
   "outputs": [],
   "source": [
    "vendas = vendas[vendas.order_purchase_timestamp != dt.datetime(2017,11,25)]"
   ]
  },
  {
   "cell_type": "code",
   "execution_count": 60,
   "metadata": {},
   "outputs": [
    {
     "data": {
      "text/plain": [
       "<AxesSubplot:xlabel='order_purchase_timestamp'>"
      ]
     },
     "execution_count": 60,
     "metadata": {},
     "output_type": "execute_result"
    },
    {
     "data": {
      "image/png": "[encoded data removed]",
      "text/plain": [
       "<Figure size 640x480 with 1 Axes>"
      ]
     },
     "metadata": {},
     "output_type": "display_data"
    }
   ],
   "source": [
    "vendas.groupby('order_purchase_timestamp')['price'].sum().plot()"
   ]
  },
  {
   "cell_type": "code",
   "execution_count": 61,
   "metadata": {},
   "outputs": [
    {
     "data": {
      "text/plain": [
       "<AxesSubplot:xlabel='order_purchase_timestamp'>"
      ]
     },
     "execution_count": 61,
     "metadata": {},
     "output_type": "execute_result"
    },
    {
     "data": {
      "image/png": "[encoded data removed]",
      "text/plain": [
       "<Figure size 640x480 with 1 Axes>"
      ]
     },
     "metadata": {},
     "output_type": "display_data"
    }
   ],
   "source": [
    "vendas[(vendas.order_purchase_timestamp >= dt.datetime(2018,8,1)) & (vendas.order_purchase_timestamp <= dt.datetime(2018,8,30))].groupby('order_purchase_timestamp')['price'].sum().plot()\n"
   ]
  },
  {
   "cell_type": "code",
   "execution_count": 83,
   "metadata": {},
   "outputs": [
    {
     "data": {
      "text/plain": [
       "<AxesSubplot:xlabel='customer_state'>"
      ]
     },
     "execution_count": 83,
     "metadata": {},
     "output_type": "execute_result"
    },
    {
     "data": {
      "image/png": "[encoded data removed]",
      "text/plain": [
       "<Figure size 640x480 with 1 Axes>"
      ]
     },
     "metadata": {},
     "output_type": "display_data"
    }
   ],
   "source": [
    "vendas.groupby('customer_state')['price'].sum().sort_values(ascending=False).plot.bar()"
   ]
  },
  {
   "cell_type": "code",
   "execution_count": 63,
   "metadata": {},
   "outputs": [
    {
     "data": {
      "text/plain": [
       "0          8.0\n",
       "1          6.0\n",
       "2         18.0\n",
       "3         13.0\n",
       "4         10.0\n",
       "          ... \n",
       "111918     2.0\n",
       "111919     6.0\n",
       "111920    21.0\n",
       "111921    21.0\n",
       "111922    18.0\n",
       "Length: 108734, dtype: float64"
      ]
     },
     "execution_count": 63,
     "metadata": {},
     "output_type": "execute_result"
    }
   ],
   "source": [
    "(vendas.order_estimated_delivery_date - vendas.order_delivered_customer_date).dt.days"
   ]
  },
  {
   "cell_type": "code",
   "execution_count": 64,
   "metadata": {},
   "outputs": [],
   "source": [
    "vendas['DifDias']=(vendas.order_estimated_delivery_date - vendas.order_delivered_customer_date).dt.days"
   ]
  },
  {
   "cell_type": "code",
   "execution_count": 65,
   "metadata": {},
   "outputs": [
    {
     "data": {
      "text/plain": [
       "<AxesSubplot:xlabel='order_purchase_timestamp'>"
      ]
     },
     "execution_count": 65,
     "metadata": {},
     "output_type": "execute_result"
    },
    {
     "data": {
      "image/png": "[encoded data removed]",
      "text/plain": [
       "<Figure size 640x480 with 1 Axes>"
      ]
     },
     "metadata": {},
     "output_type": "display_data"
    }
   ],
   "source": [
    "vendas.groupby('order_purchase_timestamp')['DifDias'].min().plot()"
   ]
  },
  {
   "cell_type": "code",
   "execution_count": 66,
   "metadata": {},
   "outputs": [],
   "source": [
    "vendas['FlagAtraso']=vendas.DifDias.apply(lambda x: 1 if(x<0) else 0)"
   ]
  },
  {
   "cell_type": "code",
   "execution_count": 67,
   "metadata": {},
   "outputs": [],
   "source": [
    "verificar_datas=vendas[['order_estimated_delivery_date','order_delivered_customer_date','DifDias','FlagAtraso']]"
   ]
  },
  {
   "cell_type": "code",
   "execution_count": 68,
   "metadata": {},
   "outputs": [
    {
     "data": {
      "text/html": [
       "<div>\n",
       "<style scoped>\n",
       "    .dataframe tbody tr th:only-of-type {\n",
       "        vertical-align: middle;\n",
       "    }\n",
       "\n",
       "    .dataframe tbody tr th {\n",
       "        vertical-align: top;\n",
       "    }\n",
       "\n",
       "    .dataframe thead th {\n",
       "        text-align: right;\n",
       "    }\n",
       "</style>\n",
       "<table border=\"1\" class=\"dataframe\">\n",
       "  <thead>\n",
       "    <tr style=\"text-align: right;\">\n",
       "      <th></th>\n",
       "      <th>order_estimated_delivery_date</th>\n",
       "      <th>order_delivered_customer_date</th>\n",
       "      <th>DifDias</th>\n",
       "      <th>FlagAtraso</th>\n",
       "    </tr>\n",
       "  </thead>\n",
       "  <tbody>\n",
       "    <tr>\n",
       "      <th>0</th>\n",
       "      <td>2017-10-18</td>\n",
       "      <td>2017-10-10</td>\n",
       "      <td>8.0</td>\n",
       "      <td>0</td>\n",
       "    </tr>\n",
       "    <tr>\n",
       "      <th>1</th>\n",
       "      <td>2018-08-13</td>\n",
       "      <td>2018-08-07</td>\n",
       "      <td>6.0</td>\n",
       "      <td>0</td>\n",
       "    </tr>\n",
       "    <tr>\n",
       "      <th>2</th>\n",
       "      <td>2018-09-04</td>\n",
       "      <td>2018-08-17</td>\n",
       "      <td>18.0</td>\n",
       "      <td>0</td>\n",
       "    </tr>\n",
       "    <tr>\n",
       "      <th>3</th>\n",
       "      <td>2017-12-15</td>\n",
       "      <td>2017-12-02</td>\n",
       "      <td>13.0</td>\n",
       "      <td>0</td>\n",
       "    </tr>\n",
       "    <tr>\n",
       "      <th>4</th>\n",
       "      <td>2018-02-26</td>\n",
       "      <td>2018-02-16</td>\n",
       "      <td>10.0</td>\n",
       "      <td>0</td>\n",
       "    </tr>\n",
       "    <tr>\n",
       "      <th>...</th>\n",
       "      <td>...</td>\n",
       "      <td>...</td>\n",
       "      <td>...</td>\n",
       "      <td>...</td>\n",
       "    </tr>\n",
       "    <tr>\n",
       "      <th>111918</th>\n",
       "      <td>2018-03-02</td>\n",
       "      <td>2018-02-28</td>\n",
       "      <td>2.0</td>\n",
       "      <td>0</td>\n",
       "    </tr>\n",
       "    <tr>\n",
       "      <th>111919</th>\n",
       "      <td>2017-09-27</td>\n",
       "      <td>2017-09-21</td>\n",
       "      <td>6.0</td>\n",
       "      <td>0</td>\n",
       "    </tr>\n",
       "    <tr>\n",
       "      <th>111920</th>\n",
       "      <td>2018-02-15</td>\n",
       "      <td>2018-01-25</td>\n",
       "      <td>21.0</td>\n",
       "      <td>0</td>\n",
       "    </tr>\n",
       "    <tr>\n",
       "      <th>111921</th>\n",
       "      <td>2018-02-15</td>\n",
       "      <td>2018-01-25</td>\n",
       "      <td>21.0</td>\n",
       "      <td>0</td>\n",
       "    </tr>\n",
       "    <tr>\n",
       "      <th>111922</th>\n",
       "      <td>2018-04-03</td>\n",
       "      <td>2018-03-16</td>\n",
       "      <td>18.0</td>\n",
       "      <td>0</td>\n",
       "    </tr>\n",
       "  </tbody>\n",
       "</table>\n",
       "<p>98627 rows × 4 columns</p>\n",
       "</div>"
      ],
      "text/plain": [
       "       order_estimated_delivery_date order_delivered_customer_date  DifDias  \\\n",
       "0                         2017-10-18                    2017-10-10      8.0   \n",
       "1                         2018-08-13                    2018-08-07      6.0   \n",
       "2                         2018-09-04                    2018-08-17     18.0   \n",
       "3                         2017-12-15                    2017-12-02     13.0   \n",
       "4                         2018-02-26                    2018-02-16     10.0   \n",
       "...                              ...                           ...      ...   \n",
       "111918                    2018-03-02                    2018-02-28      2.0   \n",
       "111919                    2017-09-27                    2017-09-21      6.0   \n",
       "111920                    2018-02-15                    2018-01-25     21.0   \n",
       "111921                    2018-02-15                    2018-01-25     21.0   \n",
       "111922                    2018-04-03                    2018-03-16     18.0   \n",
       "\n",
       "        FlagAtraso  \n",
       "0                0  \n",
       "1                0  \n",
       "2                0  \n",
       "3                0  \n",
       "4                0  \n",
       "...            ...  \n",
       "111918           0  \n",
       "111919           0  \n",
       "111920           0  \n",
       "111921           0  \n",
       "111922           0  \n",
       "\n",
       "[98627 rows x 4 columns]"
      ]
     },
     "execution_count": 68,
     "metadata": {},
     "output_type": "execute_result"
    }
   ],
   "source": [
    "verificar_datas[verificar_datas.order_estimated_delivery_date > verificar_datas.order_delivered_customer_date]"
   ]
  },
  {
   "cell_type": "code",
   "execution_count": 69,
   "metadata": {},
   "outputs": [
    {
     "data": {
      "text/plain": [
       "1.0      1487\n",
       "2.0      1581\n",
       "3.0      1864\n",
       "4.0      2050\n",
       "5.0      2349\n",
       "         ... \n",
       "109.0       1\n",
       "124.0       2\n",
       "135.0       1\n",
       "140.0       1\n",
       "147.0       2\n",
       "Name: DifDias, Length: 81, dtype: int64"
      ]
     },
     "execution_count": 69,
     "metadata": {},
     "output_type": "execute_result"
    }
   ],
   "source": [
    "verificar_datas.loc[verificar_datas.order_estimated_delivery_date > verificar_datas.order_delivered_customer_date, 'DifDias'].value_counts().sort_index()"
   ]
  },
  {
   "cell_type": "code",
   "execution_count": 70,
   "metadata": {},
   "outputs": [
    {
     "data": {
      "text/plain": [
       "<AxesSubplot:xlabel='order_purchase_timestamp'>"
      ]
     },
     "execution_count": 70,
     "metadata": {},
     "output_type": "execute_result"
    },
    {
     "data": {
      "image/png": "[encoded data removed]",
      "text/plain": [
       "<Figure size 640x480 with 1 Axes>"
      ]
     },
     "metadata": {},
     "output_type": "display_data"
    }
   ],
   "source": [
    "vendas[(vendas.FlagAtraso==1) & (vendas.order_delivered_customer_date.notnull())].groupby('order_purchase_timestamp')['FlagAtraso'].count().plot()"
   ]
  },
  {
   "cell_type": "code",
   "execution_count": 82,
   "metadata": {},
   "outputs": [
    {
     "ename": "AttributeError",
     "evalue": "'DataFrame' object has no attribute 'FlagAtraso'",
     "output_type": "error",
     "traceback": [
      "\u001b[1;31m---------------------------------------------------------------------------\u001b[0m",
      "\u001b[1;31mAttributeError\u001b[0m                            Traceback (most recent call last)",
      "\u001b[1;32mc:\\Users\\Pedro\\Documents\\programas\\Python\\CienDa\\aula2-ciencia.ipynb Célula: 69\u001b[0m in \u001b[0;36m<cell line: 1>\u001b[1;34m()\u001b[0m\n\u001b[1;32m----> <a href='vscode-notebook-cell:/c%3A/Users/Pedro/Documents/programas/Python/CienDa/aula2-ciencia.ipynb#Y125sZmlsZQ%3D%3D?line=0'>1</a>\u001b[0m vendas[(vendas\u001b[39m.\u001b[39;49mFlagAtraso\u001b[39m==\u001b[39m\u001b[39m1\u001b[39m) \u001b[39m&\u001b[39m (vendas\u001b[39m.\u001b[39morder_delivered_customer_date\u001b[39m.\u001b[39mnotnull())]\u001b[39m.\u001b[39mgroupby(\u001b[39m'\u001b[39m\u001b[39mano_mes\u001b[39m\u001b[39m'\u001b[39m)[\u001b[39m'\u001b[39m\u001b[39mFlagAtraso\u001b[39m\u001b[39m'\u001b[39m]\u001b[39m.\u001b[39mcount()\u001b[39m.\u001b[39mplot\u001b[39m.\u001b[39mbar()\n",
      "File \u001b[1;32mc:\\Users\\Pedro\\AppData\\Local\\Programs\\Python\\Python310\\lib\\site-packages\\pandas\\core\\generic.py:5575\u001b[0m, in \u001b[0;36mNDFrame.__getattr__\u001b[1;34m(self, name)\u001b[0m\n\u001b[0;32m   5568\u001b[0m \u001b[39mif\u001b[39;00m (\n\u001b[0;32m   5569\u001b[0m     name \u001b[39mnot\u001b[39;00m \u001b[39min\u001b[39;00m \u001b[39mself\u001b[39m\u001b[39m.\u001b[39m_internal_names_set\n\u001b[0;32m   5570\u001b[0m     \u001b[39mand\u001b[39;00m name \u001b[39mnot\u001b[39;00m \u001b[39min\u001b[39;00m \u001b[39mself\u001b[39m\u001b[39m.\u001b[39m_metadata\n\u001b[0;32m   5571\u001b[0m     \u001b[39mand\u001b[39;00m name \u001b[39mnot\u001b[39;00m \u001b[39min\u001b[39;00m \u001b[39mself\u001b[39m\u001b[39m.\u001b[39m_accessors\n\u001b[0;32m   5572\u001b[0m     \u001b[39mand\u001b[39;00m \u001b[39mself\u001b[39m\u001b[39m.\u001b[39m_info_axis\u001b[39m.\u001b[39m_can_hold_identifiers_and_holds_name(name)\n\u001b[0;32m   5573\u001b[0m ):\n\u001b[0;32m   5574\u001b[0m     \u001b[39mreturn\u001b[39;00m \u001b[39mself\u001b[39m[name]\n\u001b[1;32m-> 5575\u001b[0m \u001b[39mreturn\u001b[39;00m \u001b[39mobject\u001b[39;49m\u001b[39m.\u001b[39;49m\u001b[39m__getattribute__\u001b[39;49m(\u001b[39mself\u001b[39;49m, name)\n",
      "\u001b[1;31mAttributeError\u001b[0m: 'DataFrame' object has no attribute 'FlagAtraso'"
     ]
    }
   ],
   "source": [
    "vendas[(vendas.FlagAtraso==1) & (vendas.order_delivered_customer_date.notnull())].groupby('ano_mes')['FlagAtraso'].count().plot.bar()"
   ]
  },
  {
   "cell_type": "code",
   "execution_count": 72,
   "metadata": {},
   "outputs": [],
   "source": [
    "vendas = pd.read_excel('base_vendas.xlsx')"
   ]
  },
  {
   "cell_type": "code",
   "execution_count": 73,
   "metadata": {},
   "outputs": [],
   "source": [
    "paga = pd.read_excel('base_pagamentos.xlsx')"
   ]
  },
  {
   "cell_type": "code",
   "execution_count": 74,
   "metadata": {},
   "outputs": [],
   "source": [
    "agg_vendas=vendas.groupby('order_id')[['price','freight_value']].sum()"
   ]
  },
  {
   "cell_type": "code",
   "execution_count": 75,
   "metadata": {},
   "outputs": [],
   "source": [
    "agg_paga=paga.groupby('order_id')['payment_value'].sum()"
   ]
  },
  {
   "cell_type": "code",
   "execution_count": 76,
   "metadata": {},
   "outputs": [],
   "source": [
    "agg=pd.concat([agg_vendas,agg_paga],axis=1)"
   ]
  },
  {
   "cell_type": "code",
   "execution_count": 77,
   "metadata": {},
   "outputs": [],
   "source": [
    "agg['total']=agg.price+agg.freight_value"
   ]
  },
  {
   "cell_type": "code",
   "execution_count": 78,
   "metadata": {},
   "outputs": [],
   "source": [
    "agg['Dif']=agg.total-agg.payment_value"
   ]
  },
  {
   "cell_type": "code",
   "execution_count": 79,
   "metadata": {},
   "outputs": [
    {
     "data": {
      "text/plain": [
       "151734.91"
      ]
     },
     "execution_count": 79,
     "metadata": {},
     "output_type": "execute_result"
    }
   ],
   "source": [
    "agg.loc[agg.price==0,'payment_value'].sum()"
   ]
  },
  {
   "cell_type": "code",
   "execution_count": 80,
   "metadata": {},
   "outputs": [
    {
     "data": {
      "text/plain": [
       "-2846.3799999999624"
      ]
     },
     "execution_count": 80,
     "metadata": {},
     "output_type": "execute_result"
    }
   ],
   "source": [
    "agg.loc[agg.price!=0,'Dif'].sum()"
   ]
  },
  {
   "cell_type": "code",
   "execution_count": 81,
   "metadata": {},
   "outputs": [
    {
     "data": {
      "text/html": [
       "<div>\n",
       "<style scoped>\n",
       "    .dataframe tbody tr th:only-of-type {\n",
       "        vertical-align: middle;\n",
       "    }\n",
       "\n",
       "    .dataframe tbody tr th {\n",
       "        vertical-align: top;\n",
       "    }\n",
       "\n",
       "    .dataframe thead th {\n",
       "        text-align: right;\n",
       "    }\n",
       "</style>\n",
       "<table border=\"1\" class=\"dataframe\">\n",
       "  <thead>\n",
       "    <tr style=\"text-align: right;\">\n",
       "      <th></th>\n",
       "      <th>price</th>\n",
       "      <th>freight_value</th>\n",
       "      <th>payment_value</th>\n",
       "      <th>total</th>\n",
       "      <th>Dif</th>\n",
       "    </tr>\n",
       "    <tr>\n",
       "      <th>order_id</th>\n",
       "      <th></th>\n",
       "      <th></th>\n",
       "      <th></th>\n",
       "      <th></th>\n",
       "      <th></th>\n",
       "    </tr>\n",
       "  </thead>\n",
       "  <tbody>\n",
       "    <tr>\n",
       "      <th>00789ce015e7e5791c7914f32bb4fad4</th>\n",
       "      <td>154.00</td>\n",
       "      <td>14.83</td>\n",
       "      <td>190.81</td>\n",
       "      <td>168.83</td>\n",
       "      <td>-21.98</td>\n",
       "    </tr>\n",
       "    <tr>\n",
       "      <th>016726239765c18f66826453f39c64e3</th>\n",
       "      <td>219.99</td>\n",
       "      <td>15.14</td>\n",
       "      <td>265.77</td>\n",
       "      <td>235.13</td>\n",
       "      <td>-30.64</td>\n",
       "    </tr>\n",
       "    <tr>\n",
       "      <th>02f4dd90ba0feb8ec394cac05862d2b5</th>\n",
       "      <td>79.90</td>\n",
       "      <td>51.06</td>\n",
       "      <td>141.65</td>\n",
       "      <td>130.96</td>\n",
       "      <td>-10.69</td>\n",
       "    </tr>\n",
       "    <tr>\n",
       "      <th>061c97a9bd7911f9d2031e1b820c344f</th>\n",
       "      <td>299.00</td>\n",
       "      <td>16.26</td>\n",
       "      <td>329.80</td>\n",
       "      <td>315.26</td>\n",
       "      <td>-14.54</td>\n",
       "    </tr>\n",
       "    <tr>\n",
       "      <th>10a6730b0b333e2b017dd139a0530f19</th>\n",
       "      <td>97.90</td>\n",
       "      <td>29.09</td>\n",
       "      <td>143.53</td>\n",
       "      <td>126.99</td>\n",
       "      <td>-16.54</td>\n",
       "    </tr>\n",
       "    <tr>\n",
       "      <th>...</th>\n",
       "      <td>...</td>\n",
       "      <td>...</td>\n",
       "      <td>...</td>\n",
       "      <td>...</td>\n",
       "      <td>...</td>\n",
       "    </tr>\n",
       "    <tr>\n",
       "      <th>e99bb46d32c47a666290f7c5928f7236</th>\n",
       "      <td>119.99</td>\n",
       "      <td>16.60</td>\n",
       "      <td>154.38</td>\n",
       "      <td>136.59</td>\n",
       "      <td>-17.79</td>\n",
       "    </tr>\n",
       "    <tr>\n",
       "      <th>ee9dfabed586581a184f72e03544b4a2</th>\n",
       "      <td>289.00</td>\n",
       "      <td>18.50</td>\n",
       "      <td>342.12</td>\n",
       "      <td>307.50</td>\n",
       "      <td>-34.62</td>\n",
       "    </tr>\n",
       "    <tr>\n",
       "      <th>fa0d5b3cb1f2221766145a60ba18ac64</th>\n",
       "      <td>109.90</td>\n",
       "      <td>19.31</td>\n",
       "      <td>141.32</td>\n",
       "      <td>129.21</td>\n",
       "      <td>-12.11</td>\n",
       "    </tr>\n",
       "    <tr>\n",
       "      <th>faf132fb35b3b3b533a67efbd6e7c02d</th>\n",
       "      <td>89.90</td>\n",
       "      <td>25.12</td>\n",
       "      <td>130.01</td>\n",
       "      <td>115.02</td>\n",
       "      <td>-14.99</td>\n",
       "    </tr>\n",
       "    <tr>\n",
       "      <th>fd33085945f15975375cd8ec85440511</th>\n",
       "      <td>217.99</td>\n",
       "      <td>16.63</td>\n",
       "      <td>212.82</td>\n",
       "      <td>234.62</td>\n",
       "      <td>21.80</td>\n",
       "    </tr>\n",
       "  </tbody>\n",
       "</table>\n",
       "<p>92 rows × 5 columns</p>\n",
       "</div>"
      ],
      "text/plain": [
       "                                   price  freight_value  payment_value  \\\n",
       "order_id                                                                 \n",
       "00789ce015e7e5791c7914f32bb4fad4  154.00          14.83         190.81   \n",
       "016726239765c18f66826453f39c64e3  219.99          15.14         265.77   \n",
       "02f4dd90ba0feb8ec394cac05862d2b5   79.90          51.06         141.65   \n",
       "061c97a9bd7911f9d2031e1b820c344f  299.00          16.26         329.80   \n",
       "10a6730b0b333e2b017dd139a0530f19   97.90          29.09         143.53   \n",
       "...                                  ...            ...            ...   \n",
       "e99bb46d32c47a666290f7c5928f7236  119.99          16.60         154.38   \n",
       "ee9dfabed586581a184f72e03544b4a2  289.00          18.50         342.12   \n",
       "fa0d5b3cb1f2221766145a60ba18ac64  109.90          19.31         141.32   \n",
       "faf132fb35b3b3b533a67efbd6e7c02d   89.90          25.12         130.01   \n",
       "fd33085945f15975375cd8ec85440511  217.99          16.63         212.82   \n",
       "\n",
       "                                   total    Dif  \n",
       "order_id                                         \n",
       "00789ce015e7e5791c7914f32bb4fad4  168.83 -21.98  \n",
       "016726239765c18f66826453f39c64e3  235.13 -30.64  \n",
       "02f4dd90ba0feb8ec394cac05862d2b5  130.96 -10.69  \n",
       "061c97a9bd7911f9d2031e1b820c344f  315.26 -14.54  \n",
       "10a6730b0b333e2b017dd139a0530f19  126.99 -16.54  \n",
       "...                                  ...    ...  \n",
       "e99bb46d32c47a666290f7c5928f7236  136.59 -17.79  \n",
       "ee9dfabed586581a184f72e03544b4a2  307.50 -34.62  \n",
       "fa0d5b3cb1f2221766145a60ba18ac64  129.21 -12.11  \n",
       "faf132fb35b3b3b533a67efbd6e7c02d  115.02 -14.99  \n",
       "fd33085945f15975375cd8ec85440511  234.62  21.80  \n",
       "\n",
       "[92 rows x 5 columns]"
      ]
     },
     "execution_count": 81,
     "metadata": {},
     "output_type": "execute_result"
    }
   ],
   "source": [
    "agg.loc[(abs(agg.Dif) > 10) & (agg.price!=0)]"
   ]
  },
  {
   "cell_type": "code",
   "execution_count": null,
   "metadata": {},
   "outputs": [],
   "source": []
  }
 ],
 "metadata": {
  "kernelspec": {
   "display_name": "Python 3.10.5 64-bit",
   "language": "python",
   "name": "python3"
  },
  "language_info": {
   "codemirror_mode": {
    "name": "ipython",
    "version": 3
   },
   "file_extension": ".py",
   "mimetype": "text/x-python",
   "name": "python",
   "nbconvert_exporter": "python",
   "pygments_lexer": "ipython3",
   "version": "3.10.5"
  },
  "orig_nbformat": 4,
  "vscode": {
   "interpreter": {
    "hash": "3763ad9f89648d847e6f5401e1219410b4a0054c5a073f5da0c68452446768ec"
   }
  }
 },
 "nbformat": 4,
 "nbformat_minor": 2
}
